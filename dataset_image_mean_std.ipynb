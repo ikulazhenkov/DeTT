{
 "cells": [
  {
   "cell_type": "markdown",
   "metadata": {},
   "source": [
    "Get mean and standard deviation for transforms i.e. PyTorch's \"transforms.Normalize\". <br>\n",
    "This normalizes the tensor image with mean and standard deviation. <br>"
   ]
  },
  {
   "cell_type": "code",
   "execution_count": 1,
   "metadata": {},
   "outputs": [],
   "source": [
    "# Import libraries\n",
    "import os\n",
    "import pickle\n",
    "\n",
    "import numpy as np\n",
    "import pandas as pd\n",
    "import torch\n",
    "from PIL import Image\n",
    "from torch.utils.data import DataLoader, Dataset, sampler\n",
    "from torchvision import transforms\n",
    "from tqdm import tqdm\n",
    "\n",
    "\n"
   ]
  },
  {
   "cell_type": "code",
   "execution_count": 2,
   "metadata": {},
   "outputs": [],
   "source": [
    "# Specify classes\n",
    "classes = (\n",
    "    \"Preparation_trocar_insertion\",\n",
    "    \"Calot_triangle_dissection\",\n",
    "    \"Clipping_and_cutting\",\n",
    "    \"Gallbladder_dissection\",\n",
    "    \"Gallbladder_packaging\",\n",
    "    \"Cleaning_and_coagulation\",\n",
    "    \"Gallbladder_extraction\",\n",
    ")\n",
    "\n",
    "\n",
    "class Cholec80Dataset(Dataset):\n",
    "    '''\n",
    "    Dataset Definition \n",
    "    '''\n",
    "    def __init__(self, df, transform=None):\n",
    "        self.image_path = df['image']\n",
    "        self.phase_annotations = df['phase']\n",
    "        self.tool_annotations = df[[\n",
    "        'tool_Grasper',\n",
    "        'tool_Bipolar',\n",
    "        'tool_Hook',\n",
    "        'tool_Scissors',\n",
    "        'tool_Clipper',\n",
    "        'tool_Irrigator',\n",
    "        'tool_SpecimenBag']]\n",
    "        self.transform = transform\n",
    "\n",
    "    def __len__(self):\n",
    "        return len(self.phase_annotations)\n",
    "\n",
    "\n",
    "    def __getitem__(self, index):\n",
    "        img_path = self.image_path[index]\n",
    "        img = Image.open(img_path).convert(\"RGB\")\n",
    "        phase_label = self.phase_annotations[index]\n",
    "\n",
    "        tool_label = self.tool_annotations.iloc[index].values\n",
    "        tool_label = tool_label.tolist()\n",
    "        tool_label = torch.FloatTensor(tool_label)\n",
    "        if self.transform is not None:\n",
    "            img = self.transform(img)\n",
    "\n",
    "        return (img, img_path, phase_label, tool_label)"
   ]
  },
  {
   "cell_type": "code",
   "execution_count": 4,
   "metadata": {},
   "outputs": [],
   "source": [
    "def _get_transform():\n",
    "    \"\"\"All pre-trained models expect input images normalized in the same way,\n",
    "       i.e. mini-batches of 3-channel RGB images of shape (3 x H x W), where H \n",
    "       and W are expected to be at least 224.\"\"\"\n",
    "    return transforms.Compose(\n",
    "        [ transforms.CenterCrop(224), transforms.ToTensor(),]\n",
    "    )"
   ]
  },
  {
   "cell_type": "markdown",
   "metadata": {
    "ExecuteTime": {
     "end_time": "2021-10-16T06:04:05.403440Z",
     "start_time": "2021-10-16T06:04:05.401339Z"
    }
   },
   "source": [
    "# Get mean and standard deviation for overall test set"
   ]
  },
  {
   "cell_type": "code",
   "execution_count": 5,
   "id": "0a4b87f6",
   "metadata": {},
   "outputs": [],
   "source": [
    "#Import train, valdiation and test sets\n",
    "train_df = pd.read_parquet('data/train_df.parquet')\n",
    "val_df = pd.read_parquet('data/val_df.parquet')\n",
    "test_df = pd.read_parquet('data/test_df.parquet')\n",
    "\n",
    "\n",
    "\n",
    "train_df = train_df[train_df['frame'] % 25 == 0].reset_index(drop=True)\n",
    "val_df = val_df[val_df['frame'] % 25 == 0].reset_index(drop=True)\n",
    "test_df = test_df[test_df['frame'] % 25 == 0].reset_index(drop=True)\n",
    "\n",
    "\n",
    "\n",
    "train_dataset = Cholec80Dataset(train_df, _get_transform())\n",
    "val_dataset = Cholec80Dataset(val_df, _get_transform())\n",
    "test_dataset = Cholec80Dataset(test_df, _get_transform())"
   ]
  },
  {
   "cell_type": "code",
   "execution_count": 11,
   "id": "59bf8457",
   "metadata": {},
   "outputs": [],
   "source": [
    "def get_mean_std(dataset):\n",
    "    mean = []\n",
    "    std = []\n",
    "\n",
    "    for i in tqdm(range(len(dataset))):\n",
    "        img_tensor = dataset[i][0]\n",
    "        image = img_tensor.numpy()\n",
    "\n",
    "        # Batch mean\n",
    "        batch_mean = np.mean(image, axis=(1, 2))\n",
    "        batch_std = np.std(image, axis=(1, 2))\n",
    "\n",
    "        mean.append(batch_mean)\n",
    "        std.append(batch_std)\n",
    "\n",
    "    # Reshape it\n",
    "    mean = np.array(mean).mean(axis=0)\n",
    "    std = np.array(std).mean(axis=0)\n",
    "\n",
    "    return mean, std "
   ]
  },
  {
   "cell_type": "markdown",
   "id": "843407f7",
   "metadata": {},
   "source": [
    "### Train mean and std"
   ]
  },
  {
   "cell_type": "code",
   "execution_count": 4,
   "metadata": {},
   "outputs": [],
   "source": [
    "train_mean, train_std = get_mean_std(train_dataset)\n",
    "print(train_mean,train_std)"
   ]
  },
  {
   "cell_type": "markdown",
   "id": "acacf2b2",
   "metadata": {},
   "source": [
    "### Validation mean and std"
   ]
  },
  {
   "cell_type": "code",
   "execution_count": 14,
   "id": "c8b13e9e",
   "metadata": {},
   "outputs": [
    {
     "name": "stderr",
     "output_type": "stream",
     "text": [
      "100%|██████████| 23770/23770 [01:22<00:00, 288.59it/s]\n"
     ]
    },
    {
     "name": "stdout",
     "output_type": "stream",
     "text": [
      "[0.4381856  0.2710791  0.27274346] [0.21493198 0.20029972 0.19810152]\n"
     ]
    }
   ],
   "source": [
    "val_mean, val_std = get_mean_std(val_dataset)\n",
    "print(val_mean,val_std)"
   ]
  },
  {
   "cell_type": "markdown",
   "id": "7570d678",
   "metadata": {},
   "source": [
    "### Test mean and std"
   ]
  },
  {
   "cell_type": "code",
   "execution_count": 15,
   "id": "5ddad2df",
   "metadata": {},
   "outputs": [
    {
     "name": "stderr",
     "output_type": "stream",
     "text": [
      "100%|██████████| 23379/23379 [01:28<00:00, 263.47it/s]\n"
     ]
    },
    {
     "name": "stdout",
     "output_type": "stream",
     "text": [
      "[0.3904725  0.2648226  0.25951037] [0.17919387 0.16188985 0.15494719]\n"
     ]
    }
   ],
   "source": [
    "test_mean, test_std = get_mean_std(test_dataset)\n",
    "print(test_mean,test_std)"
   ]
  }
 ],
 "metadata": {
  "kernelspec": {
   "display_name": "Python 3.8.10 ('base')",
   "language": "python",
   "name": "python3"
  },
  "language_info": {
   "codemirror_mode": {
    "name": "ipython",
    "version": 3
   },
   "file_extension": ".py",
   "mimetype": "text/x-python",
   "name": "python",
   "nbconvert_exporter": "python",
   "pygments_lexer": "ipython3",
   "version": "3.8.10"
  },
  "toc": {
   "base_numbering": 1,
   "nav_menu": {},
   "number_sections": true,
   "sideBar": true,
   "skip_h1_title": false,
   "title_cell": "Table of Contents",
   "title_sidebar": "Contents",
   "toc_cell": false,
   "toc_position": {},
   "toc_section_display": true,
   "toc_window_display": true
  },
  "vscode": {
   "interpreter": {
    "hash": "9136203666cc20a7cbb4159ad8ff6a3bdf9f9662fc68256af5fa565dcf4d2f30"
   }
  }
 },
 "nbformat": 4,
 "nbformat_minor": 5
}
