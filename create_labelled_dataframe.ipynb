{
 "cells": [
  {
   "cell_type": "markdown",
   "metadata": {},
   "source": [
    "### Create Labelled Dataframe for Cholec80 Videos\n",
    "\n",
    "1. Get all video files from input folder\n",
    "2. Extract all frames from each 1 of the 80 videos\n",
    "3. Perform frame pre-processing for each extracted frame\n",
    "4. Save finished frames to output folder"
   ]
  },
  {
   "cell_type": "markdown",
   "metadata": {},
   "source": [
    "Imports"
   ]
  },
  {
   "cell_type": "code",
   "execution_count": 1,
   "metadata": {},
   "outputs": [],
   "source": [
    "import numpy as np\n",
    "import pandas as pd\n",
    "import pickle\n",
    "import os, re\n",
    "from tqdm import tqdm\n",
    "from src.process_utils import extract_file_paths, import_tool_annotation_file, import_phase_annotation_file"
   ]
  },
  {
   "cell_type": "markdown",
   "metadata": {},
   "source": [
    "Create labelled dataframe"
   ]
  },
  {
   "cell_type": "code",
   "execution_count": 2,
   "metadata": {},
   "outputs": [],
   "source": [
    "#File locations by folder\n",
    "dir = './cholec80'\n",
    "frames = './cholec80/frames'\n",
    "tools = './cholec80/tool_annotations'\n",
    "phases = './cholec80/phase_annotations'\n",
    "\n",
    "\n",
    "#File paths for all tool and phase annotation files\n",
    "tool_annotation_list = extract_file_paths(tools,'.txt')\n",
    "phase_annotation_list = extract_file_paths(phases,'.txt')\n",
    "\n"
   ]
  },
  {
   "cell_type": "code",
   "execution_count": 3,
   "metadata": {},
   "outputs": [],
   "source": [
    "#Final dataframe containing concatenated video annotations and image file paths\n",
    "df = pd.DataFrame(columns=[\n",
    "        \"image\", \"video_num\", \"phase\", \"frame\", \"tool_Grasper\",\n",
    "        \"tool_Bipolar\", \"tool_Hook\", \"tool_Scissors\", \"tool_Clipper\",\n",
    "        \"tool_Irrigator\", \"tool_SpecimenBag\"\n",
    "    ])"
   ]
  },
  {
   "cell_type": "code",
   "execution_count": 4,
   "metadata": {},
   "outputs": [
    {
     "name": "stderr",
     "output_type": "stream",
     "text": [
      "100%|██████████| 80/80 [01:50<00:00,  1.38s/it]\n"
     ]
    }
   ],
   "source": [
    "#Loop through all 80 videos\n",
    "for i in tqdm(range(1, 81)):\n",
    "\n",
    "    #Assign 2 digit video number as current video id\n",
    "    video_num = f\"video{i:02d}\"\n",
    "\n",
    "    #Current dataframe for current video and extract all frame file paths\n",
    "    video_df = pd.DataFrame()\n",
    "    current_vid = frames +'/' + video_num\n",
    "    img_list = extract_file_paths(current_vid,'.jpg')\n",
    "\n",
    "    #Sort frame list by frame number\n",
    "    img_list.sort(key=lambda f: int(re.sub('\\D', '', f)))\n",
    "\n",
    "    #Assign frame path and video id to the dataframe.\n",
    "    video_df[\"image\"] = img_list\n",
    "    video_df['video_num'] = video_num\n",
    "\n",
    "    #Create tool annotation dataframe for current video\n",
    "    tool_df = import_tool_annotation_file(video_num, tool_annotation_list)\n",
    "\n",
    "    #Create tool annotation dataframe for current video\n",
    "    phase_df = import_phase_annotation_file(video_num, phase_annotation_list)            \n",
    "\n",
    "    #Concat video dataframe with its phase and tool annotation files.\n",
    "    video_df = pd.concat([video_df, phase_df], axis=1)\n",
    "    video_df = pd.concat([video_df, tool_df], axis=1)\n",
    "\n",
    "    #Make phase and time columns lower case\n",
    "    video_df = video_df.rename(columns={\"Phase\": \"phase\",\"Frame\": \"frame\",})\n",
    "\n",
    "\n",
    "    df = df.append(video_df, ignore_index=True, sort=False)"
   ]
  },
  {
   "cell_type": "code",
   "execution_count": 5,
   "metadata": {},
   "outputs": [],
   "source": [
    "#Drop na values\n",
    "df = df.dropna()"
   ]
  },
  {
   "cell_type": "code",
   "execution_count": 6,
   "metadata": {},
   "outputs": [],
   "source": [
    "#Get integer representation for video names\n",
    "df['video_int'] = df['video_num'].astype('category').cat.codes\n",
    "df['video_int'] = df['video_int'] + 1\n"
   ]
  },
  {
   "cell_type": "code",
   "execution_count": 23,
   "metadata": {},
   "outputs": [],
   "source": [
    "#Train videos\n",
    "train_set = [59, 57, 34, 32, 76, 30, 70, 54, 12, 22,  7, 27, 52, 78, 77,  6, 17,\n",
    "       37, 45, 58, 66, 20,  9, 14, 25, 62, 31, 74, 49, 65, 38,  2, 24, 73,\n",
    "       18, 39, 60, 64, 63, 48, 40, 15, 47, 29, 43, 56, 41, 19, 33,  1, 13,\n",
    "       16, 79,  4, 68, 11, 69, 10, 71, 53]\n",
    "\n",
    "#Validation videos\n",
    "validation_set = [ 3,  5,  8, 21, 23, 26, 28, 35, 36, 42]\n",
    "\n",
    "#Test videos\n",
    "test_set = [44, 46, 50, 51, 55, 61, 67, 72, 75, 80]\n",
    "       "
   ]
  },
  {
   "cell_type": "code",
   "execution_count": 24,
   "metadata": {},
   "outputs": [],
   "source": [
    "#Split into train df and val/test df\n",
    "train_df = df[df['video_int'].isin(train_set)]\n",
    "\n",
    "\n",
    "val_df = df[df['video_int'].isin(validation_set)]\n",
    "\n",
    "\n",
    "test_df = df[df['video_int'].isin(test_set)]"
   ]
  },
  {
   "cell_type": "code",
   "execution_count": 28,
   "metadata": {},
   "outputs": [],
   "source": [
    "#Output all dataframes\n",
    "df.to_parquet('full_dataframe.parquet')\n",
    "\n",
    "train_df.to_parquet('train_df.parquet')\n",
    "\n",
    "val_df.to_parquet('val_df.parquet')\n",
    "\n",
    "test_df.to_parquet('test_df.parquet')"
   ]
  },
  {
   "cell_type": "code",
   "execution_count": 12,
   "metadata": {},
   "outputs": [
    {
     "data": {
      "text/plain": [
       "32"
      ]
     },
     "execution_count": 12,
     "metadata": {},
     "output_type": "execute_result"
    }
   ],
   "source": [
    "df[(df['video_int']>48)]['video_num'].unique().shape[0]"
   ]
  },
  {
   "cell_type": "code",
   "execution_count": 13,
   "metadata": {},
   "outputs": [],
   "source": [
    "#Split into train df and val/test df\n",
    "train_df = df[df['video_int']< 41]\n",
    "\n",
    "\n",
    "val_df = df[(df['video_int']>40)  & (df['video_int']<49)]\n",
    "\n",
    "\n",
    "test_df = df[(df['video_int']>48)]\n",
    "\n",
    "#Output all dataframes\n",
    "# df.to_parquet('full_dataframe.parquet')\n",
    "\n",
    "train_df.to_parquet('data/ordered_train_df.parquet')\n",
    "\n",
    "val_df.to_parquet('data/ordered_val_df.parquet')\n",
    "\n",
    "test_df.to_parquet('data/ordered_test_df.parquet')"
   ]
  },
  {
   "cell_type": "code",
   "execution_count": 7,
   "metadata": {},
   "outputs": [],
   "source": [
    "#Split into train df and val/test df\n",
    "train_df = df[df['video_int']< 33]\n",
    "\n",
    "\n",
    "val_df = df[(df['video_int']>32)  & (df['video_int']<41)]\n",
    "\n",
    "\n",
    "test_df = df[(df['video_int']>40)]\n",
    "\n",
    "#Output all dataframes\n",
    "# df.to_parquet('full_dataframe.parquet')\n",
    "\n",
    "train_df.to_parquet('data/ord_train_df.parquet')\n",
    "\n",
    "val_df.to_parquet('data/ord_val_df.parquet')\n",
    "\n",
    "test_df.to_parquet('data/ord_test_df.parquet')"
   ]
  },
  {
   "cell_type": "code",
   "execution_count": null,
   "metadata": {},
   "outputs": [],
   "source": []
  }
 ],
 "metadata": {
  "kernelspec": {
   "display_name": "Python 3.8.10 ('base')",
   "language": "python",
   "name": "python3"
  },
  "language_info": {
   "codemirror_mode": {
    "name": "ipython",
    "version": 3
   },
   "file_extension": ".py",
   "mimetype": "text/x-python",
   "name": "python",
   "nbconvert_exporter": "python",
   "pygments_lexer": "ipython3",
   "version": "3.8.10"
  },
  "orig_nbformat": 4,
  "vscode": {
   "interpreter": {
    "hash": "9136203666cc20a7cbb4159ad8ff6a3bdf9f9662fc68256af5fa565dcf4d2f30"
   }
  }
 },
 "nbformat": 4,
 "nbformat_minor": 2
}
