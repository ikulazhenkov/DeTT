{
 "cells": [
  {
   "cell_type": "markdown",
   "metadata": {},
   "source": [
    "### Extract Frames from Cholec Videos\n",
    "\n",
    "1. Get all video files from input folder\n",
    "2. Extract all frames from each 1 of the 80 videos\n",
    "3. Perform frame pre-processing for each extracted frame\n",
    "4. Save finished frames to output folder"
   ]
  },
  {
   "cell_type": "markdown",
   "metadata": {},
   "source": [
    "Imports"
   ]
  },
  {
   "cell_type": "code",
   "execution_count": 1,
   "metadata": {},
   "outputs": [],
   "source": [
    "\n",
    "import cv2\n",
    "import numpy as np\n",
    "import re, os\n",
    "from src.utils import extract_file_paths, preprocess_center_image, resize_image\n",
    "from tqdm import tqdm\n"
   ]
  },
  {
   "cell_type": "markdown",
   "metadata": {},
   "source": [
    "Extract videos as frames"
   ]
  },
  {
   "cell_type": "code",
   "execution_count": 2,
   "metadata": {},
   "outputs": [],
   "source": [
    "#specify input/output directories\n",
    "source_dir = \"cholec80/videos/\"\n",
    "out_dir = \"cholec80/frames/\" "
   ]
  },
  {
   "cell_type": "code",
   "execution_count": 3,
   "metadata": {},
   "outputs": [],
   "source": [
    "#Extract video file paths\n",
    "video_path_list = extract_file_paths(source_dir,'.mp4')"
   ]
  },
  {
   "cell_type": "code",
   "execution_count": 4,
   "metadata": {},
   "outputs": [
    {
     "name": "stderr",
     "output_type": "stream",
     "text": [
      "  0%|          | 0/80 [00:00<?, ?it/s]"
     ]
    },
    {
     "name": "stdout",
     "output_type": "stream",
     "text": [
      "Processing video: video01...\n",
      "Video: video01 has already been done.\n",
      "Processing video: video02...\n",
      "Video: video02 has already been done.\n",
      "Processing video: video03...\n",
      "Video: video03 has already been done.\n",
      "Processing video: video04...\n",
      "Video: video04 has already been done.\n",
      "Processing video: video05...\n",
      "Video: video05 has already been done.\n",
      "Processing video: video06...\n",
      "Video: video06 has already been done.\n",
      "Processing video: video07...\n",
      "Video: video07 has already been done.\n",
      "Processing video: video08...\n",
      "Video: video08 has already been done.\n",
      "Processing video: video09...\n",
      "Video: video09 has already been done.\n",
      "Processing video: video10...\n",
      "Video: video10 has already been done.\n",
      "Processing video: video11...\n",
      "Video: video11 has already been done.\n",
      "Processing video: video12...\n",
      "Video: video12 has already been done.\n",
      "Processing video: video13...\n",
      "Video: video13 has already been done.\n",
      "Processing video: video14...\n",
      "Video: video14 has already been done.\n",
      "Processing video: video15...\n",
      "Video: video15 has already been done.\n",
      "Processing video: video16...\n",
      "Video: video16 has already been done.\n",
      "Processing video: video17...\n",
      "Video: video17 has already been done.\n",
      "Processing video: video18...\n",
      "Video: video18 has already been done.\n",
      "Processing video: video19...\n",
      "Video: video19 has already been done.\n",
      "Processing video: video20...\n",
      "Video: video20 has already been done.\n",
      "Processing video: video21...\n",
      "Video: video21 has already been done.\n",
      "Processing video: video22...\n",
      "Video: video22 has already been done.\n",
      "Processing video: video23...\n",
      "Video: video23 has already been done.\n",
      "Processing video: video24...\n",
      "Video: video24 has already been done.\n",
      "Processing video: video25...\n",
      "Video: video25 has already been done.\n",
      "Processing video: video26...\n",
      "Video: video26 has already been done.\n",
      "Processing video: video27...\n",
      "Video: video27 has already been done.\n",
      "Processing video: video28...\n",
      "Video: video28 has already been done.\n",
      "Processing video: video29...\n",
      "Video: video29 has already been done.\n",
      "Processing video: video30...\n",
      "Video: video30 has already been done.\n",
      "Processing video: video31...\n",
      "Video: video31 has already been done.\n",
      "Processing video: video32...\n",
      "Video: video32 has already been done.\n",
      "Processing video: video33...\n",
      "Video: video33 has already been done.\n",
      "Processing video: video34...\n",
      "Video: video34 has already been done.\n",
      "Processing video: video35...\n",
      "Video: video35 has already been done.\n",
      "Processing video: video36...\n",
      "Video: video36 has already been done.\n",
      "Processing video: video37...\n",
      "Video: video37 has already been done.\n",
      "Processing video: video38...\n",
      "Video: video38 has already been done.\n",
      "Processing video: video39...\n",
      "Video: video39 has already been done.\n",
      "Processing video: video40...\n",
      "Video: video40 has already been done.\n",
      "Processing video: video41...\n",
      "Video: video41 has already been done.\n",
      "Processing video: video42...\n",
      "Video: video42 has already been done.\n",
      "Processing video: video43...\n",
      "Video: video43 has already been done.\n",
      "Processing video: video44...\n",
      "Video: video44 has already been done.\n",
      "Processing video: video45...\n",
      "Video: video45 has already been done.\n",
      "Processing video: video46...\n",
      "Video: video46 has already been done.\n",
      "Processing video: video47...\n",
      "Video: video47 has already been done.\n",
      "Processing video: video48...\n",
      "Video: video48 has already been done.\n",
      "Processing video: video49...\n",
      "Video: video49 has already been done.\n",
      "Processing video: video50...\n",
      "Video: video50 has already been done.\n",
      "Processing video: video51...\n",
      "Video: video51 has already been done.\n",
      "Processing video: video52...\n",
      "Video: video52 has already been done.\n",
      "Processing video: video53...\n",
      "Video: video53 has already been done.\n",
      "Processing video: video54...\n",
      "Video: video54 has already been done.\n",
      "Processing video: video55...\n",
      "Video: video55 has already been done.\n",
      "Processing video: video56...\n",
      "Video: video56 has already been done.\n",
      "Processing video: video57...\n",
      "Video: video57 has already been done.\n",
      "Processing video: video58...\n"
     ]
    },
    {
     "name": "stderr",
     "output_type": "stream",
     "text": [
      " 72%|███████▎  | 58/80 [4:24:19<1:40:15, 273.44s/it]"
     ]
    },
    {
     "name": "stdout",
     "output_type": "stream",
     "text": [
      "Processing video: video59...\n"
     ]
    },
    {
     "name": "stderr",
     "output_type": "stream",
     "text": [
      " 74%|███████▍  | 59/80 [4:50:50<1:46:47, 305.12s/it]"
     ]
    },
    {
     "name": "stdout",
     "output_type": "stream",
     "text": [
      "Processing video: video60...\n"
     ]
    },
    {
     "name": "stderr",
     "output_type": "stream",
     "text": [
      " 75%|███████▌  | 60/80 [6:04:33<2:27:16, 441.82s/it]"
     ]
    },
    {
     "name": "stdout",
     "output_type": "stream",
     "text": [
      "Processing video: video61...\n"
     ]
    },
    {
     "name": "stderr",
     "output_type": "stream",
     "text": [
      " 76%|███████▋  | 61/80 [8:48:00<4:34:11, 865.88s/it]"
     ]
    },
    {
     "name": "stdout",
     "output_type": "stream",
     "text": [
      "Processing video: video62...\n"
     ]
    },
    {
     "name": "stderr",
     "output_type": "stream",
     "text": [
      " 78%|███████▊  | 62/80 [9:44:43<5:06:00, 1020.04s/it]"
     ]
    },
    {
     "name": "stdout",
     "output_type": "stream",
     "text": [
      "Processing video: video63...\n"
     ]
    },
    {
     "name": "stderr",
     "output_type": "stream",
     "text": [
      " 79%|███████▉  | 63/80 [11:31:19<6:50:39, 1449.38s/it]"
     ]
    },
    {
     "name": "stdout",
     "output_type": "stream",
     "text": [
      "Processing video: video64...\n"
     ]
    },
    {
     "name": "stderr",
     "output_type": "stream",
     "text": [
      " 80%|████████  | 64/80 [12:44:43<7:47:12, 1752.02s/it]"
     ]
    },
    {
     "name": "stdout",
     "output_type": "stream",
     "text": [
      "Processing video: video65...\n"
     ]
    },
    {
     "name": "stderr",
     "output_type": "stream",
     "text": [
      " 81%|████████▏ | 65/80 [13:38:16<8:04:36, 1938.41s/it]"
     ]
    },
    {
     "name": "stdout",
     "output_type": "stream",
     "text": [
      "Processing video: video66...\n"
     ]
    },
    {
     "name": "stderr",
     "output_type": "stream",
     "text": [
      " 82%|████████▎ | 66/80 [14:26:45<8:07:14, 2088.17s/it]"
     ]
    },
    {
     "name": "stdout",
     "output_type": "stream",
     "text": [
      "Processing video: video67...\n"
     ]
    },
    {
     "name": "stderr",
     "output_type": "stream",
     "text": [
      " 84%|████████▍ | 67/80 [15:27:33<8:33:25, 2369.63s/it]"
     ]
    },
    {
     "name": "stdout",
     "output_type": "stream",
     "text": [
      "Processing video: video68...\n"
     ]
    },
    {
     "name": "stderr",
     "output_type": "stream",
     "text": [
      " 85%|████████▌ | 68/80 [16:21:46<8:30:09, 2550.76s/it]"
     ]
    },
    {
     "name": "stdout",
     "output_type": "stream",
     "text": [
      "Processing video: video69...\n"
     ]
    },
    {
     "name": "stderr",
     "output_type": "stream",
     "text": [
      " 86%|████████▋ | 69/80 [19:05:34<12:49:53, 4199.44s/it]"
     ]
    },
    {
     "name": "stdout",
     "output_type": "stream",
     "text": [
      "Processing video: video70...\n"
     ]
    },
    {
     "name": "stderr",
     "output_type": "stream",
     "text": [
      " 88%|████████▊ | 70/80 [19:33:02<9:55:56, 3575.67s/it] "
     ]
    },
    {
     "name": "stdout",
     "output_type": "stream",
     "text": [
      "Processing video: video71...\n"
     ]
    },
    {
     "name": "stderr",
     "output_type": "stream",
     "text": [
      " 89%|████████▉ | 71/80 [20:49:33<9:35:45, 3838.44s/it]"
     ]
    },
    {
     "name": "stdout",
     "output_type": "stream",
     "text": [
      "Processing video: video72...\n"
     ]
    },
    {
     "name": "stderr",
     "output_type": "stream",
     "text": [
      " 90%|█████████ | 72/80 [22:17:16<9:23:04, 4223.06s/it]"
     ]
    },
    {
     "name": "stdout",
     "output_type": "stream",
     "text": [
      "Processing video: video73...\n"
     ]
    },
    {
     "name": "stderr",
     "output_type": "stream",
     "text": [
      " 91%|█████████▏| 73/80 [22:46:40<6:52:50, 3538.66s/it]"
     ]
    },
    {
     "name": "stdout",
     "output_type": "stream",
     "text": [
      "Processing video: video74...\n"
     ]
    },
    {
     "name": "stderr",
     "output_type": "stream",
     "text": [
      " 92%|█████████▎| 74/80 [23:26:59<5:22:00, 3220.03s/it]"
     ]
    },
    {
     "name": "stdout",
     "output_type": "stream",
     "text": [
      "Processing video: video75...\n"
     ]
    },
    {
     "name": "stderr",
     "output_type": "stream",
     "text": [
      " 94%|█████████▍| 75/80 [24:19:20<4:26:26, 3197.29s/it]"
     ]
    },
    {
     "name": "stdout",
     "output_type": "stream",
     "text": [
      "Processing video: video76...\n"
     ]
    },
    {
     "name": "stderr",
     "output_type": "stream",
     "text": [
      " 95%|█████████▌| 76/80 [25:29:34<3:52:57, 3494.32s/it]"
     ]
    },
    {
     "name": "stdout",
     "output_type": "stream",
     "text": [
      "Processing video: video77...\n"
     ]
    },
    {
     "name": "stderr",
     "output_type": "stream",
     "text": [
      " 96%|█████████▋| 77/80 [26:42:57<3:08:05, 3761.89s/it]"
     ]
    },
    {
     "name": "stdout",
     "output_type": "stream",
     "text": [
      "Processing video: video78...\n"
     ]
    },
    {
     "name": "stderr",
     "output_type": "stream",
     "text": [
      " 98%|█████████▊| 78/80 [27:59:59<2:13:53, 4016.54s/it]"
     ]
    },
    {
     "name": "stdout",
     "output_type": "stream",
     "text": [
      "Processing video: video79...\n"
     ]
    },
    {
     "name": "stderr",
     "output_type": "stream",
     "text": [
      " 99%|█████████▉| 79/80 [34:07:56<2:36:25, 9385.52s/it]"
     ]
    },
    {
     "name": "stdout",
     "output_type": "stream",
     "text": [
      "Processing video: video80...\n"
     ]
    },
    {
     "name": "stderr",
     "output_type": "stream",
     "text": [
      "100%|██████████| 80/80 [37:22:45<00:00, 1682.07s/it]  "
     ]
    },
    {
     "name": "stdout",
     "output_type": "stream",
     "text": [
      "Video Frame Extraction Completed\n"
     ]
    },
    {
     "name": "stderr",
     "output_type": "stream",
     "text": [
      "\n"
     ]
    }
   ],
   "source": [
    "prev_video = '-1'\n",
    "for file_path in tqdm(video_path_list):\n",
    "    \n",
    "    #Get video file num in the format: videoxx where xx is vid number\n",
    "    video_num = re.search(r\"[^\\/]+(?=\\.[^\\/.]*$)\",file_path)[0]\n",
    "    print(f'Processing video: {video_num}...')\n",
    "\n",
    "    \n",
    "    #If video already processed skip\n",
    "    if os.listdir(out_dir).count(video_num) !=0:\n",
    "        print(f'Video: {video_num} has already been done.')\n",
    "        continue\n",
    "    \n",
    "\n",
    "    #Specify starting frame and frame output folder path\n",
    "    out_path = out_dir+str(video_num)\n",
    "    frame_number = 0\n",
    "\n",
    "    #Process video in open cv\n",
    "    cap= cv2.VideoCapture(file_path)\n",
    "\n",
    "    #If video subfolder does not exist create it.\n",
    "    if not os.path.exists(out_path):\n",
    "        os.mkdir(out_path)\n",
    "\n",
    "\n",
    "    prev_video = video_num\n",
    "\n",
    "    while cap.isOpened():\n",
    "        ret, frame = cap.read()\n",
    "\n",
    "        if frame_number != 0 and frame_number < max([int(f.split('.')[0]) for f in os.listdir(out_path)]):\n",
    "            frame_number = frame_number+1\n",
    "            continue\n",
    "\n",
    "        if not ret:\n",
    "            break\n",
    "\n",
    "        frame_path = out_path+'/'+ str(frame_number)+\".jpg\"\n",
    "\n",
    "        #Resize image by a certain percentage\n",
    "        resized_frame = resize_image(frame,60)\n",
    "\n",
    "        #Crop, preprocess and add noise to image\n",
    "        resized_frame = preprocess_center_image(resized_frame)\n",
    "\n",
    "        #If resizing fails remove image\n",
    "        if np.shape(resized_frame)[0] == 0 or np.shape(resized_frame)[1] == 0:\n",
    "            frame_number = frame_number+1\n",
    "            continue\n",
    "\n",
    "        #Resize again after preprocessing and cropping\n",
    "        img_out = cv2.resize(resized_frame,(250,250))\n",
    "\n",
    "        #Write out image and increment frame count for video\n",
    "        cv2.imwrite(frame_path, img_out)\n",
    "        frame_number = frame_number+1\n",
    "        cv2.waitKey(0)\n",
    "\n",
    "\n",
    "        \n",
    "\n",
    "\n",
    "cap.release()\n",
    "cv2.destroyAllWindows()\n",
    "print('Video Frame Extraction Completed')"
   ]
  },
  {
   "cell_type": "code",
   "execution_count": null,
   "metadata": {},
   "outputs": [],
   "source": []
  }
 ],
 "metadata": {
  "kernelspec": {
   "display_name": "Python 3.8.10 ('base')",
   "language": "python",
   "name": "python3"
  },
  "language_info": {
   "codemirror_mode": {
    "name": "ipython",
    "version": 3
   },
   "file_extension": ".py",
   "mimetype": "text/x-python",
   "name": "python",
   "nbconvert_exporter": "python",
   "pygments_lexer": "ipython3",
   "version": "3.8.10"
  },
  "orig_nbformat": 4,
  "vscode": {
   "interpreter": {
    "hash": "9136203666cc20a7cbb4159ad8ff6a3bdf9f9662fc68256af5fa565dcf4d2f30"
   }
  }
 },
 "nbformat": 4,
 "nbformat_minor": 2
}
