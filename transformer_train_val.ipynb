{
 "cells": [
  {
   "cell_type": "markdown",
   "metadata": {},
   "source": [
    "### Train and validation setup for transformer models"
   ]
  },
  {
   "cell_type": "code",
   "execution_count": 1,
   "metadata": {},
   "outputs": [],
   "source": [
    "import numpy as np\n",
    "import pandas as pd\n",
    "# import matplotlib.pyplot as plt\n",
    "\n",
    "\n",
    "from sklearn.utils import class_weight\n",
    "from sklearn.metrics import accuracy_score\n",
    "\n",
    "import timm\n",
    "import torch\n",
    "import torch.nn as nn\n",
    "from torch.utils.data.sampler import WeightedRandomSampler\n",
    "\n",
    "from tqdm import tqdm\n",
    "\n",
    "\n",
    "from src.dl_model_utils import get_transform_train,get_transform_valid, Cholec80Dataset, EarlyStopping, start_timer,end_timer_and_print\n",
    "from src.models import  *\n"
   ]
  },
  {
   "cell_type": "code",
   "execution_count": 2,
   "metadata": {},
   "outputs": [],
   "source": [
    "INSTRUMENT_MAP = {\n",
    "    '':0,\n",
    "    'tool_Grasper':1,\n",
    "    'tool_Grasper, tool_Hook':2,\n",
    "    'tool_Hook':3,\n",
    "    'tool_Grasper, tool_Irrigator':4,\n",
    "    'tool_Irrigator':5,\n",
    "    'tool_Bipolar':6,\n",
    "    'tool_Grasper, tool_Bipolar':7,\n",
    "    'tool_Grasper, tool_Clipper':8,\n",
    "    'tool_Clipper':9,\n",
    "    'tool_Grasper, tool_Scissors':10,\n",
    "    'tool_SpecimenBag':11,\n",
    "    'tool_Grasper, tool_SpecimenBag':12,\n",
    "    'tool_Scissors':13,\n",
    "    'tool_Grasper, tool_Bipolar, tool_Irrigator':14,\n",
    "    'tool_Bipolar, tool_Irrigator':15,\n",
    "    'tool_Bipolar, tool_SpecimenBag':16,\n",
    "    'tool_Grasper, tool_Bipolar, tool_SpecimenBag':17,\n",
    "    'tool_Irrigator, tool_SpecimenBag':18,\n",
    "    'tool_Bipolar, tool_Irrigator, tool_SpecimenBag':19,\n",
    "    'tool_Grasper, tool_Irrigator, tool_SpecimenBag':20,\n",
    "    'tool_Grasper, tool_Clipper, tool_Irrigator':21,\n",
    "    'tool_Clipper, tool_Irrigator':22,\n",
    "    'tool_Grasper, tool_Clipper, tool_SpecimenBag':23,\n",
    "    'tool_Grasper, tool_Scissors, tool_SpecimenBag':24,\n",
    "    'tool_Hook, tool_Irrigator':25,\n",
    "    'tool_Grasper, tool_Hook, tool_Irrigator':26,\n",
    "    'tool_Bipolar, tool_Scissors':27\n",
    "    }"
   ]
  },
  {
   "cell_type": "code",
   "execution_count": 3,
   "metadata": {},
   "outputs": [
    {
     "name": "stdout",
     "output_type": "stream",
     "text": [
      "Device Type : cuda\n"
     ]
    }
   ],
   "source": [
    "device = \"cuda\" if torch.cuda.is_available() else \"cpu\"\n",
    "print(\"Device Type : {}\".format(device))"
   ]
  },
  {
   "cell_type": "code",
   "execution_count": 4,
   "metadata": {},
   "outputs": [],
   "source": [
    "#Import train and validation sets\n",
    "# train_df = pd.read_parquet('data/train_df.parquet')\n",
    "# val_df = pd.read_parquet('data/val_df.parquet')\n",
    "# train_df = pd.read_parquet('data/ordered_train_df.parquet')\n",
    "# val_df = pd.read_parquet('data/ordered_val_df.parquet')\n",
    "train_df = pd.read_parquet('data/ord_train_df.parquet')\n",
    "val_df = pd.read_parquet('data/ord_val_df.parquet')\n",
    "\n",
    "\n",
    "#Sample train and val datasets at 1fps\n",
    "train_df = train_df[train_df['frame'] % 25 == 0].reset_index(drop=True)\n",
    "val_df = val_df[val_df['frame'] % 25 == 0].reset_index(drop=True)"
   ]
  },
  {
   "cell_type": "code",
   "execution_count": 11,
   "metadata": {},
   "outputs": [
    {
     "ename": "TypeError",
     "evalue": "can't multiply sequence by non-int of type 'float'",
     "output_type": "error",
     "traceback": [
      "\u001b[1;31m---------------------------------------------------------------------------\u001b[0m",
      "\u001b[1;31mTypeError\u001b[0m                                 Traceback (most recent call last)",
      "Cell \u001b[1;32mIn[11], line 1\u001b[0m\n\u001b[1;32m----> 1\u001b[0m train_df[\u001b[38;5;124m'\u001b[39m\u001b[38;5;124mtool_target\u001b[39m\u001b[38;5;124m'\u001b[39m] \u001b[38;5;241m=\u001b[39m \u001b[43mtrain_df\u001b[49m\u001b[43m[\u001b[49m\u001b[43m[\u001b[49m\u001b[38;5;124;43m'\u001b[39;49m\u001b[38;5;124;43mtool_Grasper\u001b[39;49m\u001b[38;5;124;43m'\u001b[39;49m\u001b[43m,\u001b[49m\u001b[43m \u001b[49m\u001b[38;5;124;43m'\u001b[39;49m\u001b[38;5;124;43mtool_Bipolar\u001b[39;49m\u001b[38;5;124;43m'\u001b[39;49m\u001b[43m,\u001b[49m\n\u001b[0;32m      2\u001b[0m \u001b[43m        \u001b[49m\u001b[38;5;124;43m'\u001b[39;49m\u001b[38;5;124;43mtool_Hook\u001b[39;49m\u001b[38;5;124;43m'\u001b[39;49m\u001b[43m,\u001b[49m\u001b[43m \u001b[49m\u001b[38;5;124;43m'\u001b[39;49m\u001b[38;5;124;43mtool_Scissors\u001b[39;49m\u001b[38;5;124;43m'\u001b[39;49m\u001b[43m,\u001b[49m\u001b[43m \u001b[49m\u001b[38;5;124;43m'\u001b[39;49m\u001b[38;5;124;43mtool_Clipper\u001b[39;49m\u001b[38;5;124;43m'\u001b[39;49m\u001b[43m,\u001b[49m\u001b[43m \u001b[49m\u001b[38;5;124;43m'\u001b[39;49m\u001b[38;5;124;43mtool_Irrigator\u001b[39;49m\u001b[38;5;124;43m'\u001b[39;49m\u001b[43m,\u001b[49m\n\u001b[0;32m      3\u001b[0m \u001b[43m        \u001b[49m\u001b[38;5;124;43m'\u001b[39;49m\u001b[38;5;124;43mtool_SpecimenBag\u001b[39;49m\u001b[38;5;124;43m'\u001b[39;49m\u001b[43m]\u001b[49m\u001b[43m]\u001b[49m\u001b[38;5;241;43m.\u001b[39;49m\u001b[43mdot\u001b[49m\u001b[43m(\u001b[49m\u001b[43mtrain_df\u001b[49m\u001b[43m[\u001b[49m\u001b[43m[\u001b[49m\u001b[38;5;124;43m'\u001b[39;49m\u001b[38;5;124;43mtool_Grasper\u001b[39;49m\u001b[38;5;124;43m'\u001b[39;49m\u001b[43m,\u001b[49m\u001b[43m \u001b[49m\u001b[38;5;124;43m'\u001b[39;49m\u001b[38;5;124;43mtool_Bipolar\u001b[39;49m\u001b[38;5;124;43m'\u001b[39;49m\u001b[43m,\u001b[49m\n\u001b[0;32m      4\u001b[0m \u001b[43m        \u001b[49m\u001b[38;5;124;43m'\u001b[39;49m\u001b[38;5;124;43mtool_Hook\u001b[39;49m\u001b[38;5;124;43m'\u001b[39;49m\u001b[43m,\u001b[49m\u001b[43m \u001b[49m\u001b[38;5;124;43m'\u001b[39;49m\u001b[38;5;124;43mtool_Scissors\u001b[39;49m\u001b[38;5;124;43m'\u001b[39;49m\u001b[43m,\u001b[49m\u001b[43m \u001b[49m\u001b[38;5;124;43m'\u001b[39;49m\u001b[38;5;124;43mtool_Clipper\u001b[39;49m\u001b[38;5;124;43m'\u001b[39;49m\u001b[43m,\u001b[49m\u001b[43m \u001b[49m\u001b[38;5;124;43m'\u001b[39;49m\u001b[38;5;124;43mtool_Irrigator\u001b[39;49m\u001b[38;5;124;43m'\u001b[39;49m\u001b[43m,\u001b[49m\n\u001b[0;32m      5\u001b[0m \u001b[43m        \u001b[49m\u001b[38;5;124;43m'\u001b[39;49m\u001b[38;5;124;43mtool_SpecimenBag\u001b[39;49m\u001b[38;5;124;43m'\u001b[39;49m\u001b[43m]\u001b[49m\u001b[43m]\u001b[49m\u001b[38;5;241;43m.\u001b[39;49m\u001b[43mcolumns\u001b[49m\u001b[43m \u001b[49m\u001b[38;5;241;43m+\u001b[39;49m\u001b[43m \u001b[49m\u001b[38;5;124;43m'\u001b[39;49m\u001b[38;5;124;43m, \u001b[39;49m\u001b[38;5;124;43m'\u001b[39;49m\u001b[43m)\u001b[49m\u001b[38;5;241m.\u001b[39mstr\u001b[38;5;241m.\u001b[39mrstrip(\u001b[38;5;124m'\u001b[39m\u001b[38;5;124m, \u001b[39m\u001b[38;5;124m'\u001b[39m)\u001b[38;5;241m.\u001b[39mmap(INSTRUMENT_MAP)\u001b[38;5;241m.\u001b[39mvalues\n\u001b[0;32m      6\u001b[0m val_df[\u001b[38;5;124m'\u001b[39m\u001b[38;5;124mtool_target\u001b[39m\u001b[38;5;124m'\u001b[39m] \u001b[38;5;241m=\u001b[39m val_df[[\u001b[38;5;124m'\u001b[39m\u001b[38;5;124mtool_Grasper\u001b[39m\u001b[38;5;124m'\u001b[39m, \u001b[38;5;124m'\u001b[39m\u001b[38;5;124mtool_Bipolar\u001b[39m\u001b[38;5;124m'\u001b[39m,\n\u001b[0;32m      7\u001b[0m         \u001b[38;5;124m'\u001b[39m\u001b[38;5;124mtool_Hook\u001b[39m\u001b[38;5;124m'\u001b[39m, \u001b[38;5;124m'\u001b[39m\u001b[38;5;124mtool_Scissors\u001b[39m\u001b[38;5;124m'\u001b[39m, \u001b[38;5;124m'\u001b[39m\u001b[38;5;124mtool_Clipper\u001b[39m\u001b[38;5;124m'\u001b[39m, \u001b[38;5;124m'\u001b[39m\u001b[38;5;124mtool_Irrigator\u001b[39m\u001b[38;5;124m'\u001b[39m,\n\u001b[0;32m      8\u001b[0m         \u001b[38;5;124m'\u001b[39m\u001b[38;5;124mtool_SpecimenBag\u001b[39m\u001b[38;5;124m'\u001b[39m]]\u001b[38;5;241m.\u001b[39mdot(val_df[[\u001b[38;5;124m'\u001b[39m\u001b[38;5;124mtool_Grasper\u001b[39m\u001b[38;5;124m'\u001b[39m, \u001b[38;5;124m'\u001b[39m\u001b[38;5;124mtool_Bipolar\u001b[39m\u001b[38;5;124m'\u001b[39m,\n\u001b[0;32m      9\u001b[0m         \u001b[38;5;124m'\u001b[39m\u001b[38;5;124mtool_Hook\u001b[39m\u001b[38;5;124m'\u001b[39m, \u001b[38;5;124m'\u001b[39m\u001b[38;5;124mtool_Scissors\u001b[39m\u001b[38;5;124m'\u001b[39m, \u001b[38;5;124m'\u001b[39m\u001b[38;5;124mtool_Clipper\u001b[39m\u001b[38;5;124m'\u001b[39m, \u001b[38;5;124m'\u001b[39m\u001b[38;5;124mtool_Irrigator\u001b[39m\u001b[38;5;124m'\u001b[39m,\n\u001b[0;32m     10\u001b[0m         \u001b[38;5;124m'\u001b[39m\u001b[38;5;124mtool_SpecimenBag\u001b[39m\u001b[38;5;124m'\u001b[39m]]\u001b[38;5;241m.\u001b[39mcolumns \u001b[38;5;241m+\u001b[39m \u001b[38;5;124m'\u001b[39m\u001b[38;5;124m, \u001b[39m\u001b[38;5;124m'\u001b[39m)\u001b[38;5;241m.\u001b[39mstr\u001b[38;5;241m.\u001b[39mrstrip(\u001b[38;5;124m'\u001b[39m\u001b[38;5;124m, \u001b[39m\u001b[38;5;124m'\u001b[39m)\u001b[38;5;241m.\u001b[39mmap(INSTRUMENT_MAP)\u001b[38;5;241m.\u001b[39mvalues\n",
      "File \u001b[1;32mc:\\Users\\vkula\\anaconda3\\lib\\site-packages\\pandas\\core\\frame.py:1613\u001b[0m, in \u001b[0;36mDataFrame.dot\u001b[1;34m(self, other)\u001b[0m\n\u001b[0;32m   1611\u001b[0m     \u001b[39mreturn\u001b[39;00m \u001b[39mself\u001b[39m\u001b[39m.\u001b[39m_constructor_sliced(np\u001b[39m.\u001b[39mdot(lvals, rvals), index\u001b[39m=\u001b[39mleft\u001b[39m.\u001b[39mindex)\n\u001b[0;32m   1612\u001b[0m \u001b[39melif\u001b[39;00m \u001b[39misinstance\u001b[39m(rvals, (np\u001b[39m.\u001b[39mndarray, Index)):\n\u001b[1;32m-> 1613\u001b[0m     result \u001b[39m=\u001b[39m np\u001b[39m.\u001b[39;49mdot(lvals, rvals)\n\u001b[0;32m   1614\u001b[0m     \u001b[39mif\u001b[39;00m result\u001b[39m.\u001b[39mndim \u001b[39m==\u001b[39m \u001b[39m2\u001b[39m:\n\u001b[0;32m   1615\u001b[0m         \u001b[39mreturn\u001b[39;00m \u001b[39mself\u001b[39m\u001b[39m.\u001b[39m_constructor(result, index\u001b[39m=\u001b[39mleft\u001b[39m.\u001b[39mindex)\n",
      "File \u001b[1;32m<__array_function__ internals>:180\u001b[0m, in \u001b[0;36mdot\u001b[1;34m(*args, **kwargs)\u001b[0m\n",
      "\u001b[1;31mTypeError\u001b[0m: can't multiply sequence by non-int of type 'float'"
     ]
    }
   ],
   "source": [
    "train_df['tool_target'] = train_df[['tool_Grasper', 'tool_Bipolar',\n",
    "        'tool_Hook', 'tool_Scissors', 'tool_Clipper', 'tool_Irrigator',\n",
    "        'tool_SpecimenBag']].dot(train_df[['tool_Grasper', 'tool_Bipolar',\n",
    "        'tool_Hook', 'tool_Scissors', 'tool_Clipper', 'tool_Irrigator',\n",
    "        'tool_SpecimenBag']].columns + ', ').str.rstrip(', ').map(INSTRUMENT_MAP).values\n",
    "val_df['tool_target'] = val_df[['tool_Grasper', 'tool_Bipolar',\n",
    "        'tool_Hook', 'tool_Scissors', 'tool_Clipper', 'tool_Irrigator',\n",
    "        'tool_SpecimenBag']].dot(val_df[['tool_Grasper', 'tool_Bipolar',\n",
    "        'tool_Hook', 'tool_Scissors', 'tool_Clipper', 'tool_Irrigator',\n",
    "        'tool_SpecimenBag']].columns + ', ').str.rstrip(', ').map(INSTRUMENT_MAP).values"
   ]
  },
  {
   "cell_type": "code",
   "execution_count": 6,
   "metadata": {},
   "outputs": [
    {
     "name": "stdout",
     "output_type": "stream",
     "text": [
      "Weighted classes: tensor([3.5000e-01, 2.6292e-01, 9.2914e-02, 2.0479e-01, 1.4761e+00, 2.3115e+00,\n",
      "        2.8420e+00, 1.9868e+00, 1.4197e+00, 2.9995e+00, 3.1497e+00, 4.3800e+00,\n",
      "        8.7081e-01, 5.6997e+00, 6.1303e+00, 1.3465e+01, 2.4280e+01, 9.0960e+00,\n",
      "        1.0560e+01, 1.5813e+01, 5.7852e+00, 2.5696e+02, 7.7088e+02, 3.0835e+03,\n",
      "        1.1013e+02, 5.4097e+01, 2.2673e+01, 4.0573e+01])\n"
     ]
    }
   ],
   "source": [
    "#Get train label weights and convert to torch tensor\n",
    "tool_weights=class_weight.compute_class_weight('balanced',classes=np.unique(train_df['tool_target']),y=train_df['tool_target'].to_numpy())\n",
    "tool_weights=torch.tensor(tool_weights,dtype=torch.float)\n",
    "print(f'Weighted classes: {tool_weights}')"
   ]
  },
  {
   "cell_type": "code",
   "execution_count": 12,
   "metadata": {},
   "outputs": [],
   "source": [
    "def train_validate_tool_detect(train_df, val_df, method=0, device='cuda',epochs=100, model_num=0, optimizer_num = 1,batch_size = 128, learning_rate = 0.0005, weight_decay=0.05,momentum=0.9, patience=30, patience_delta = 0.005,img_in_size = 224, classes=7):\n",
    "    '''\n",
    "    Model nums:\n",
    "    Transformers tool detection\n",
    "    Model 0: ViT\n",
    "    Model 1 & 2: DeiT Distilled & DeiT non distilled huge\n",
    "    '''\n",
    "    \n",
    "    #Get train label weights and convert to torch tensor\n",
    "    tool_weights=class_weight.compute_class_weight('balanced',classes=np.unique(train_df['tool_target']),y=train_df['tool_target'].to_numpy())\n",
    "    tool_weights=torch.tensor(tool_weights,dtype=torch.float)\n",
    "    print(f'Weighted classes: {tool_weights}')\n",
    "\n",
    "    #Create datasets for phase segmentation\n",
    "    trainset = Cholec80Dataset(train_df,  get_transform_train(img_in_size))\n",
    "    validationset = Cholec80Dataset(val_df,  get_transform_valid(img_in_size))\n",
    "\n",
    "    trainloader = torch.utils.data.DataLoader(\n",
    "        trainset,\n",
    "        batch_size=batch_size,\n",
    "        shuffle=True\n",
    "    )\n",
    "    validationloader = torch.utils.data.DataLoader(\n",
    "        validationset, \n",
    "        batch_size=batch_size, \n",
    "        shuffle=False\n",
    "    )\n",
    "\n",
    "    #Initialise tool detection loss\n",
    "    criterion = nn.BCEWithLogitsLoss(reduction='sum')\n",
    "    criterion_tool = nn.CrossEntropyLoss(weight=tool_weights)\n",
    "    if device == 'cuda':\n",
    "        criterion.to(device)\n",
    "        criterion_tool.to(device)\n",
    "        \n",
    "    #Initialize early stopping\n",
    "    early_stopping = EarlyStopping(patience, patience_delta)\n",
    "\n",
    "\n",
    "    #Model selection\n",
    "    if model_num == 0:\n",
    "        model = ViT_OD()\n",
    "        model_name = 'ViT_ord_od'\n",
    "        model.freeze()\n",
    "    elif model_num == 1:\n",
    "        model = DeiT_Distilled_OD(num_classes=classes)\n",
    "        model_name = 'DeiT_ord_od'\n",
    "        model.freeze()\n",
    "    # elif model_num == 2:\n",
    "    #     model = DeiT_OD_phase()\n",
    "    #     model_name = 'DeiT3_ord_od'\n",
    "    #     model.freeze()\n",
    "\n",
    "    #Final calculated learning rate\n",
    "    learning_rate_final = learning_rate * batch_size / 128\n",
    "\n",
    "    #Select optimizer for job\n",
    "    optimizer = None\n",
    "    if optimizer_num == 0:\n",
    "        optimizer = torch.optim.SGD(filter(lambda p: p.requires_grad, model.parameters()), lr=learning_rate_final, momentum=momentum, weight_decay=weight_decay)\n",
    "    elif optimizer_num == 1:\n",
    "        # optimizer = torch.optim.Adam(filter(lambda p: p.requires_grad, model.parameters()), lr=learning_rate)\n",
    "        optimizer = torch.optim.AdamW(filter(lambda p: p.requires_grad, model.parameters()), lr=learning_rate_final, weight_decay=weight_decay)\n",
    "\n",
    "    # scheduler = torch.optim.lr_scheduler.ReduceLROnPlateau(optimizer, verbose=True)\n",
    "    scheduler = torch.optim.lr_scheduler.CosineAnnealingLR(optimizer=optimizer,T_max=20)\n",
    "\n",
    "    if device == 'cuda':\n",
    "        model.to(device)\n",
    "\n",
    "    start_timer()\n",
    "    for epoch in range(0,epochs):\n",
    "        print(f'Training Epoch: {epoch+1} of {epochs}..')\n",
    "\n",
    "        train_loss = 0.0\n",
    "        train_correct = 0\n",
    "        total = 0.0\n",
    "        batch_gt = []\n",
    "        batch_pred = []\n",
    "\n",
    "        # Outputs for HMM\n",
    "        img_path = []\n",
    "        true_labels = []\n",
    "        softmax_out = []\n",
    "        predicted_labels = []\n",
    "\n",
    "\n",
    "        model.train()\n",
    "        for i, (train_inputs,train_img_id, train_labels,train_tools,train_tool_targets) in tqdm(enumerate(trainloader, 0)):\n",
    "            img_path = img_path + list(train_img_id)\n",
    "            true_labels = true_labels + train_tool_targets.tolist()\n",
    "\n",
    "            if device == 'cuda':\n",
    "                train_inputs, train_labels, train_tools,train_tool_targets = train_inputs.to(device), train_labels.to(device), train_tools.to(device), train_tool_targets.to(device)\n",
    "\n",
    "            optimizer.zero_grad()\n",
    "\n",
    "            train_outputs, sigmoid_outputs  = model.forward(train_inputs)\n",
    "            if method ==0:\n",
    "                train_preds = (sigmoid_outputs > 0.5).float()\n",
    "            else:\n",
    "                _, train_preds = torch.max(train_outputs.data, 1)\n",
    "\n",
    "            if method == 0:\n",
    "                loss = criterion(train_outputs, train_tools)\n",
    "            else:\n",
    "                loss = criterion_tool(train_outputs, train_tool_targets)\n",
    "                \n",
    "            loss.backward()\n",
    "            optimizer.step()\n",
    "\n",
    "            softmax_out = softmax_out + train_outputs.cpu().detach().tolist()\n",
    "            predicted_labels = predicted_labels + train_preds.cpu().tolist()\n",
    "\n",
    "            train_loss += loss.item()\n",
    "            if method == 0:\n",
    "                batch_gt.append(np.concatenate(train_tools.cpu().tolist()))\n",
    "                batch_pred.append(np.concatenate(train_preds.cpu().tolist()))\n",
    "            else:\n",
    "                total += train_labels.size(0)\n",
    "                train_correct += train_preds.eq(train_tool_targets).sum().item()\n",
    "                \n",
    "        if method == 0:\n",
    "            all_batch_gt = np.concatenate(batch_gt)\n",
    "            all_batch_pred = np.concatenate(batch_pred)\n",
    "\n",
    "        hmm_df = pd.DataFrame(\n",
    "            {'img_path': img_path,\n",
    "                'true_labels': true_labels,\n",
    "                'cnn_output': softmax_out,\n",
    "                'predicted_labels': predicted_labels\n",
    "                })\n",
    "        if method == 0:\n",
    "            print(len(trainloader), 'Training Loss Phase: %.5f | Training Acc Phase: %.5f%%'\n",
    "            % (train_loss / len(trainloader),100. * accuracy_score(all_batch_gt,all_batch_pred)))\n",
    "        else:\n",
    "            print(len(trainloader), 'Training Loss Phase: %.5f | Training Acc Phase: %.5f%% (%d/%d)'\n",
    "            % (train_loss / len(trainloader), 100. * train_correct / total, train_correct, total))\n",
    "\n",
    "        model.eval()\n",
    "        val_loss = 0.0\n",
    "        val_correct = 0\n",
    "        val_total = 0.0\n",
    "        val_batch_gt = []\n",
    "        val_batch_pred = []\n",
    "            \n",
    "        with torch.no_grad():\n",
    "            for j, (val_inputs,val_img_id, val_labels,val_tools,val_tool_targets) in enumerate(validationloader):\n",
    "                if device == 'cuda':\n",
    "                    val_inputs, val_labels, val_tools, val_tool_targets = val_inputs.to(device), val_labels.to(device), val_tools.to(device), val_tool_targets.to(device)\n",
    "\n",
    "                val_outputs, val_sigmoid_outputs = model.forward(val_inputs)\n",
    "                if method == 0:\n",
    "                    val_preds = (val_sigmoid_outputs > 0.5).float()\n",
    "                else:\n",
    "                    _, val_preds = torch.max(val_outputs.data, 1)\n",
    "\n",
    "                if method == 0:\n",
    "                    loss = criterion(val_outputs, val_tools)\n",
    "                else:\n",
    "                    loss = criterion_tool(val_outputs, val_tool_targets)\n",
    "\n",
    "                val_loss += loss.item()\n",
    "                if method == 0:\n",
    "                    val_batch_gt.append(np.concatenate(val_tools.cpu().tolist()))\n",
    "                    val_batch_pred.append(np.concatenate(val_preds.cpu().tolist()))\n",
    "                else:\n",
    "                    val_total += val_labels.size(0)\n",
    "                    val_correct += val_preds.eq(val_tool_targets).sum().item()\n",
    "\n",
    "            if method == 0:\n",
    "                all_batch_gt = np.concatenate(val_batch_gt)\n",
    "                all_batch_pred = np.concatenate(val_batch_pred)\n",
    "\n",
    "            if method == 0:\n",
    "                print(len(validationloader), 'Validation Loss Phase: %.5f | Validation Acc Phase: %.5f%%'\n",
    "                % (val_loss / len(validationloader), 100. * accuracy_score(all_batch_gt,all_batch_pred)))\n",
    "            else:\n",
    "                print(len(validationloader), 'Validation Loss Phase: %.5f | Validation Acc Phase: %.5f%% (%d/%d)'\n",
    "                % (val_loss / len(validationloader), 100. * val_correct / val_total, val_correct, val_total))\n",
    "    \n",
    "            scheduler.step(val_loss)\n",
    "            #Get average for early stopping check and call the early stopping class to perform calc\n",
    "            val_loss_avg = val_loss/len(validationloader)\n",
    "            early_stopping(val_loss_avg, model, model_name, hmm_df)\n",
    "\n",
    "            #If limit reached stop execution\n",
    "            if early_stopping.stop:\n",
    "                break\n",
    "\n",
    "    end_timer_and_print()"
   ]
  },
  {
   "cell_type": "code",
   "execution_count": null,
   "metadata": {},
   "outputs": [],
   "source": [
    "start_time = None\n",
    "train_validate_tool_detect(train_df, val_df,method=0, model_num=1,img_in_size=224)"
   ]
  },
  {
   "cell_type": "code",
   "execution_count": 5,
   "metadata": {},
   "outputs": [],
   "source": [
    "def model_train_validate_transformer(train_df, val_df,device='cuda',epochs=100, model_num=0, optimizer_num = 1,batch_size = 128, learning_rate = 0.0005, weight_decay=0.05,momentum=0.9, patience=30, patience_delta = 0.0005,img_in_size = 224):\n",
    "    '''\n",
    "    Model nums:\n",
    "    Transformers\n",
    "    Model 0 & 10: ViT ViT LSTM\n",
    "    Model 1 & 4: DeiT Distilled & DeiT non distilled huge\n",
    "    Model 2: BeiT\n",
    "    Model 3: Cross_ViT\n",
    "    Nodel 5: Swin\n",
    "    '''\n",
    "\n",
    "    #Get train label weights and convert to torch tensor\n",
    "    phase_weights=class_weight.compute_class_weight('balanced',classes=np.unique(train_df['phase']),y=train_df['phase'].to_numpy())\n",
    "    phase_weights=torch.tensor(phase_weights,dtype=torch.float)\n",
    "    print(f'Weighted classes: {phase_weights}')\n",
    "\n",
    "\n",
    "    #Create datasets for phase segmentation\n",
    "    trainset = Cholec80Dataset(train_df,  get_transform_train(img_in_size))\n",
    "    validationset = Cholec80Dataset(val_df,  get_transform_valid(img_in_size))\n",
    "    if model_num >= 10:\n",
    "        trainloader = torch.utils.data.DataLoader(\n",
    "            trainset,\n",
    "            batch_size=batch_size,\n",
    "            shuffle=False\n",
    "        )\n",
    "    else:\n",
    "        trainloader = torch.utils.data.DataLoader(\n",
    "            trainset,\n",
    "            batch_size=batch_size,\n",
    "            shuffle=True\n",
    "        )\n",
    "    validationloader = torch.utils.data.DataLoader(\n",
    "        validationset, \n",
    "        batch_size=batch_size, \n",
    "        shuffle=False\n",
    "    )\n",
    "\n",
    "    #Initialise two required loss functions\n",
    "    criterion = nn.CrossEntropyLoss(weight=phase_weights)\n",
    "    if device == 'cuda':\n",
    "        criterion.to(device)\n",
    "        \n",
    "    #Initialize early stopping\n",
    "    early_stopping = EarlyStopping(patience, patience_delta)\n",
    "\n",
    "\n",
    "    #Model selection\n",
    "    if model_num == 0:\n",
    "        model = ViT()\n",
    "        model_name = 'ViT_ord'\n",
    "        model.freeze()\n",
    "    elif model_num == 1:\n",
    "        model = DeiT_Distilled()\n",
    "        model_name = 'DeiT_ord_final_flr'\n",
    "        model.freeze()\n",
    "    elif model_num == 2:\n",
    "        model = BEIT()\n",
    "        model_name = 'BEIT_ord'\n",
    "        model.freeze()\n",
    "    elif model_num == 3:\n",
    "        model = Cross_Vit()\n",
    "        model_name = 'Cross_ViT_ord'\n",
    "        model.freeze()\n",
    "    elif model_num == 4:\n",
    "        model = DeiT()\n",
    "        model_name = 'DeiT3_ord'\n",
    "        model.freeze()\n",
    "    elif model_num == 5:\n",
    "        model = DeiT_Distilled()\n",
    "        model_name = 'DeiT_ord_32'\n",
    "        model.freeze()     \n",
    "    elif model_num == 10:\n",
    "        model = ViT_LSTM()\n",
    "        model_name = 'ViT_LSTM_ord'\n",
    "        model.freeze()\n",
    "    elif model_num == 11:\n",
    "        model = DeiT_Distilled_LSTM()\n",
    "        model_name = 'DeiT_LSTM_ord'\n",
    "        model.freeze()\n",
    "    elif model_num == 12:\n",
    "        model = DeiT_Distilled_LSTM(dataset=1)\n",
    "        model_name = 'DeiT_LSTM_ord_32'\n",
    "        model.freeze()\n",
    "    # else:\n",
    "    #     model = Swin()\n",
    "    #     model_name = 'Swin_ord'\n",
    "    #     model.freeze()\n",
    "\n",
    "    #Final calculated learning rate\n",
    "    learning_rate_final = learning_rate# * batch_size / 512\n",
    "\n",
    "    #Select optimizer for job\n",
    "    optimizer = None\n",
    "    if optimizer_num == 0:\n",
    "        optimizer = torch.optim.SGD(filter(lambda p: p.requires_grad, model.parameters()), lr=learning_rate_final, momentum=momentum, weight_decay=weight_decay)\n",
    "    elif optimizer_num == 1:\n",
    "        # optimizer = torch.optim.Adam(filter(lambda p: p.requires_grad, model.parameters()), lr=learning_rate)\n",
    "        optimizer = torch.optim.AdamW(filter(lambda p: p.requires_grad, model.parameters()), lr=learning_rate_final, weight_decay=weight_decay)\n",
    "\n",
    "    scheduler = torch.optim.lr_scheduler.ReduceLROnPlateau(optimizer, verbose=True)\n",
    "    # scheduler = torch.optim.lr_scheduler.CosineAnnealingLR(optimizer=optimizer,T_max=20, verbose=True)\n",
    "\n",
    "    if device == 'cuda':\n",
    "        model.to(device)\n",
    "\n",
    "    start_timer()\n",
    "    for epoch in range(0,epochs):\n",
    "        print(f'Training Epoch: {epoch+1} of {epochs}..')\n",
    "\n",
    "        train_loss = 0.0\n",
    "        train_correct = 0\n",
    "        total = 0.0\n",
    "\n",
    "        # Outputs for HMM\n",
    "        img_path = []\n",
    "        true_labels = []\n",
    "        soft_max_out = []\n",
    "        predicted_labels = []\n",
    "\n",
    "\n",
    "        model.train()\n",
    "        for i, (train_inputs,train_img_id, train_labels,train_tools) in tqdm(enumerate(trainloader, 0)):\n",
    "            img_path = img_path + list(train_img_id)\n",
    "            true_labels = true_labels + train_labels.tolist()\n",
    "\n",
    "            if device == 'cuda':\n",
    "                train_inputs, train_labels, train_tools = train_inputs.to(device), train_labels.to(device), train_tools.to(device)\n",
    "\n",
    "            optimizer.zero_grad()\n",
    "\n",
    "            train_outputs  = model.forward(train_inputs)\n",
    "            \n",
    "            _, train_preds = torch.max(train_outputs.data, 1)\n",
    "            loss = criterion(train_outputs, train_labels)\n",
    "\n",
    "            loss.backward()\n",
    "            optimizer.step()\n",
    "\n",
    "            soft_max_out = soft_max_out + train_outputs.cpu().detach().tolist()\n",
    "            predicted_labels = predicted_labels + train_preds.cpu().tolist()\n",
    "\n",
    "            train_loss += loss.item()\n",
    "            total += train_labels.size(0)\n",
    "            train_correct += train_preds.eq(train_labels).sum().item()\n",
    "\n",
    "        hmm_df = pd.DataFrame(\n",
    "            {'img_path': img_path,\n",
    "                'true_labels': true_labels,\n",
    "                'cnn_output': soft_max_out,\n",
    "                'predicted_labels': predicted_labels\n",
    "                })\n",
    "        \n",
    "        print(len(trainloader), 'Training Loss Phase: %.5f | Training Acc Phase: %.5f%% (%d/%d)'\n",
    "        % (train_loss / len(trainloader), 100. * train_correct / total, train_correct, total))\n",
    "\n",
    "        model.eval()\n",
    "        val_loss = 0.0\n",
    "        val_correct = 0\n",
    "        val_total = 0.0\n",
    "            \n",
    "        with torch.no_grad():\n",
    "            for j, (val_inputs,val_img_id, val_labels,val_tools) in enumerate(validationloader):\n",
    "                if device == 'cuda':\n",
    "                    val_inputs, val_labels, val_tools = val_inputs.to(device), val_labels.to(device), val_tools.to(device)\n",
    "\n",
    "                val_outputs = model.forward(val_inputs)\n",
    "    \n",
    "                _, val_preds = torch.max(val_outputs.data, 1)\n",
    "                loss = criterion(val_outputs, val_labels)\n",
    "\n",
    "\n",
    "\n",
    "\n",
    "                val_loss += loss.item()\n",
    "                val_total += val_labels.size(0)\n",
    "                val_correct += val_preds.eq(val_labels).sum().item()\n",
    "\n",
    "        \n",
    "            print(len(validationloader), 'Validation Loss Phase: %.5f | Validation Acc Phase: %.5f%% (%d/%d)'\n",
    "                % (val_loss / len(validationloader), 100. * val_correct / val_total, val_correct, val_total))\n",
    "    \n",
    "            # scheduler.step(val_loss)\n",
    "            #Get average for early stopping check and call the early stopping class to perform calc\n",
    "            val_loss_avg = val_loss/len(validationloader)\n",
    "            early_stopping(val_loss_avg, model, model_name, hmm_df)\n",
    "\n",
    "            #If limit reached stop execution\n",
    "            if early_stopping.stop:\n",
    "                break\n",
    "\n",
    "    end_timer_and_print()"
   ]
  },
  {
   "cell_type": "code",
   "execution_count": 6,
   "metadata": {},
   "outputs": [
    {
     "name": "stdout",
     "output_type": "stream",
     "text": [
      "Weighted classes: tensor([3.2690, 0.3413, 1.6529, 0.5062, 3.2902, 1.6971, 3.4443])\n"
     ]
    },
    {
     "name": "stderr",
     "output_type": "stream",
     "text": [
      "c:\\Users\\vkula\\anaconda3\\lib\\site-packages\\torch\\cuda\\memory.py:278: FutureWarning: torch.cuda.reset_max_memory_allocated now calls torch.cuda.reset_peak_memory_stats, which resets /all/ peak memory stats.\n",
      "  warnings.warn(\n"
     ]
    },
    {
     "name": "stdout",
     "output_type": "stream",
     "text": [
      "Training Epoch: 1 of 100..\n"
     ]
    },
    {
     "name": "stderr",
     "output_type": "stream",
     "text": [
      "278it [05:35,  1.21s/it]\n"
     ]
    },
    {
     "name": "stdout",
     "output_type": "stream",
     "text": [
      "278 Training Loss Phase: 1.56493 | Training Acc Phase: 46.16067% (32787/71028)\n",
      "60 Validation Loss Phase: 1.30362 | Validation Acc Phase: 60.95618% (9333/15311)\n",
      "Training Epoch: 2 of 100..\n"
     ]
    },
    {
     "name": "stderr",
     "output_type": "stream",
     "text": [
      "278it [04:40,  1.01s/it]\n"
     ]
    },
    {
     "name": "stdout",
     "output_type": "stream",
     "text": [
      "278 Training Loss Phase: 1.19082 | Training Acc Phase: 63.36938% (45010/71028)\n",
      "60 Validation Loss Phase: 1.12679 | Validation Acc Phase: 69.51865% (10644/15311)\n",
      "Validation loss improved from 1.30 to 1.13  Saving Model\n",
      "Training Epoch: 3 of 100..\n"
     ]
    },
    {
     "name": "stderr",
     "output_type": "stream",
     "text": [
      "278it [04:44,  1.02s/it]\n"
     ]
    },
    {
     "name": "stdout",
     "output_type": "stream",
     "text": [
      "278 Training Loss Phase: 1.00784 | Training Acc Phase: 70.73408% (50241/71028)\n",
      "60 Validation Loss Phase: 1.01856 | Validation Acc Phase: 70.92940% (10860/15311)\n",
      "Validation loss improved from 1.13 to 1.02  Saving Model\n",
      "Training Epoch: 4 of 100..\n"
     ]
    },
    {
     "name": "stderr",
     "output_type": "stream",
     "text": [
      "278it [04:46,  1.03s/it]\n"
     ]
    },
    {
     "name": "stdout",
     "output_type": "stream",
     "text": [
      "278 Training Loss Phase: 0.88700 | Training Acc Phase: 74.46078% (52888/71028)\n",
      "60 Validation Loss Phase: 0.94715 | Validation Acc Phase: 72.18993% (11053/15311)\n",
      "Validation loss improved from 1.02 to 0.95  Saving Model\n",
      "Training Epoch: 5 of 100..\n"
     ]
    },
    {
     "name": "stderr",
     "output_type": "stream",
     "text": [
      "278it [04:44,  1.02s/it]\n"
     ]
    },
    {
     "name": "stdout",
     "output_type": "stream",
     "text": [
      "278 Training Loss Phase: 0.80173 | Training Acc Phase: 76.99640% (54689/71028)\n",
      "60 Validation Loss Phase: 0.89768 | Validation Acc Phase: 73.45046% (11246/15311)\n",
      "Validation loss improved from 0.95 to 0.90  Saving Model\n",
      "Training Epoch: 6 of 100..\n"
     ]
    },
    {
     "name": "stderr",
     "output_type": "stream",
     "text": [
      "278it [04:44,  1.02s/it]\n"
     ]
    },
    {
     "name": "stdout",
     "output_type": "stream",
     "text": [
      "278 Training Loss Phase: 0.73783 | Training Acc Phase: 79.00828% (56118/71028)\n",
      "60 Validation Loss Phase: 0.86490 | Validation Acc Phase: 73.90765% (11316/15311)\n",
      "Validation loss improved from 0.90 to 0.86  Saving Model\n",
      "Training Epoch: 7 of 100..\n"
     ]
    },
    {
     "name": "stderr",
     "output_type": "stream",
     "text": [
      "278it [04:42,  1.02s/it]\n"
     ]
    },
    {
     "name": "stdout",
     "output_type": "stream",
     "text": [
      "278 Training Loss Phase: 0.68850 | Training Acc Phase: 80.32748% (57055/71028)\n",
      "60 Validation Loss Phase: 0.83551 | Validation Acc Phase: 74.34524% (11383/15311)\n",
      "Validation loss improved from 0.86 to 0.84  Saving Model\n",
      "Training Epoch: 8 of 100..\n"
     ]
    },
    {
     "name": "stderr",
     "output_type": "stream",
     "text": [
      "278it [04:41,  1.01s/it]\n"
     ]
    },
    {
     "name": "stdout",
     "output_type": "stream",
     "text": [
      "278 Training Loss Phase: 0.64763 | Training Acc Phase: 81.42000% (57831/71028)\n",
      "60 Validation Loss Phase: 0.82016 | Validation Acc Phase: 74.44321% (11398/15311)\n",
      "Validation loss improved from 0.84 to 0.82  Saving Model\n",
      "Training Epoch: 9 of 100..\n"
     ]
    },
    {
     "name": "stderr",
     "output_type": "stream",
     "text": [
      "278it [04:40,  1.01s/it]\n"
     ]
    },
    {
     "name": "stdout",
     "output_type": "stream",
     "text": [
      "278 Training Loss Phase: 0.61408 | Training Acc Phase: 82.24221% (58415/71028)\n",
      "60 Validation Loss Phase: 0.80927 | Validation Acc Phase: 74.64568% (11429/15311)\n",
      "Validation loss improved from 0.82 to 0.81  Saving Model\n",
      "Training Epoch: 10 of 100..\n"
     ]
    },
    {
     "name": "stderr",
     "output_type": "stream",
     "text": [
      "278it [04:37,  1.00it/s]\n"
     ]
    },
    {
     "name": "stdout",
     "output_type": "stream",
     "text": [
      "278 Training Loss Phase: 0.58522 | Training Acc Phase: 82.84761% (58845/71028)\n",
      "60 Validation Loss Phase: 0.80543 | Validation Acc Phase: 74.90693% (11469/15311)\n",
      "Validation loss improved from 0.81 to 0.81  Saving Model\n",
      "Training Epoch: 11 of 100..\n"
     ]
    },
    {
     "name": "stderr",
     "output_type": "stream",
     "text": [
      "278it [04:37,  1.00it/s]\n"
     ]
    },
    {
     "name": "stdout",
     "output_type": "stream",
     "text": [
      "278 Training Loss Phase: 0.55930 | Training Acc Phase: 83.50932% (59315/71028)\n",
      "60 Validation Loss Phase: 0.79495 | Validation Acc Phase: 74.89387% (11467/15311)\n",
      "Validation loss improved from 0.81 to 0.79  Saving Model\n",
      "Training Epoch: 12 of 100..\n"
     ]
    },
    {
     "name": "stderr",
     "output_type": "stream",
     "text": [
      "278it [04:39,  1.00s/it]\n"
     ]
    },
    {
     "name": "stdout",
     "output_type": "stream",
     "text": [
      "278 Training Loss Phase: 0.53649 | Training Acc Phase: 84.08797% (59726/71028)\n",
      "60 Validation Loss Phase: 0.78383 | Validation Acc Phase: 75.47515% (11556/15311)\n",
      "Validation loss improved from 0.79 to 0.78  Saving Model\n",
      "Training Epoch: 13 of 100..\n"
     ]
    },
    {
     "name": "stderr",
     "output_type": "stream",
     "text": [
      "278it [04:37,  1.00it/s]\n"
     ]
    },
    {
     "name": "stdout",
     "output_type": "stream",
     "text": [
      "278 Training Loss Phase: 0.51631 | Training Acc Phase: 84.49907% (60018/71028)\n",
      "60 Validation Loss Phase: 0.77598 | Validation Acc Phase: 75.52740% (11564/15311)\n",
      "Validation loss improved from 0.78 to 0.78  Saving Model\n",
      "Training Epoch: 14 of 100..\n"
     ]
    },
    {
     "name": "stderr",
     "output_type": "stream",
     "text": [
      "278it [04:38,  1.00s/it]\n"
     ]
    },
    {
     "name": "stdout",
     "output_type": "stream",
     "text": [
      "278 Training Loss Phase: 0.49970 | Training Acc Phase: 84.91440% (60313/71028)\n",
      "60 Validation Loss Phase: 0.76758 | Validation Acc Phase: 76.67690% (11740/15311)\n",
      "Validation loss improved from 0.78 to 0.77  Saving Model\n",
      "Training Epoch: 15 of 100..\n"
     ]
    },
    {
     "name": "stderr",
     "output_type": "stream",
     "text": [
      "278it [04:28,  1.03it/s]\n"
     ]
    },
    {
     "name": "stdout",
     "output_type": "stream",
     "text": [
      "278 Training Loss Phase: 0.48374 | Training Acc Phase: 85.18190% (60503/71028)\n",
      "60 Validation Loss Phase: 0.79164 | Validation Acc Phase: 75.89968% (11621/15311)\n",
      "Early Stopping count is at: 1 maximum is: 30\n",
      "Training Epoch: 16 of 100..\n"
     ]
    },
    {
     "name": "stderr",
     "output_type": "stream",
     "text": [
      "278it [04:28,  1.03it/s]\n"
     ]
    },
    {
     "name": "stdout",
     "output_type": "stream",
     "text": [
      "278 Training Loss Phase: 0.47319 | Training Acc Phase: 85.64651% (60833/71028)\n",
      "60 Validation Loss Phase: 0.77867 | Validation Acc Phase: 76.52668% (11717/15311)\n",
      "Early Stopping count is at: 2 maximum is: 30\n",
      "Training Epoch: 17 of 100..\n"
     ]
    },
    {
     "name": "stderr",
     "output_type": "stream",
     "text": [
      "278it [04:28,  1.03it/s]\n"
     ]
    },
    {
     "name": "stdout",
     "output_type": "stream",
     "text": [
      "278 Training Loss Phase: 0.44820 | Training Acc Phase: 86.46449% (61414/71028)\n",
      "60 Validation Loss Phase: 0.78538 | Validation Acc Phase: 76.36340% (11692/15311)\n",
      "Early Stopping count is at: 3 maximum is: 30\n",
      "Training Epoch: 18 of 100..\n"
     ]
    },
    {
     "name": "stderr",
     "output_type": "stream",
     "text": [
      "278it [04:28,  1.03it/s]\n"
     ]
    },
    {
     "name": "stdout",
     "output_type": "stream",
     "text": [
      "278 Training Loss Phase: 0.44325 | Training Acc Phase: 86.55601% (61479/71028)\n",
      "60 Validation Loss Phase: 0.78794 | Validation Acc Phase: 76.63771% (11734/15311)\n",
      "Early Stopping count is at: 4 maximum is: 30\n",
      "Training Epoch: 19 of 100..\n"
     ]
    },
    {
     "name": "stderr",
     "output_type": "stream",
     "text": [
      "278it [04:28,  1.03it/s]\n"
     ]
    },
    {
     "name": "stdout",
     "output_type": "stream",
     "text": [
      "278 Training Loss Phase: 0.42785 | Training Acc Phase: 87.10368% (61868/71028)\n",
      "60 Validation Loss Phase: 0.74993 | Validation Acc Phase: 77.91784% (11930/15311)\n",
      "Validation loss improved from 0.77 to 0.75  Saving Model\n",
      "Training Epoch: 20 of 100..\n"
     ]
    },
    {
     "name": "stderr",
     "output_type": "stream",
     "text": [
      "278it [04:29,  1.03it/s]\n"
     ]
    },
    {
     "name": "stdout",
     "output_type": "stream",
     "text": [
      "278 Training Loss Phase: 0.41337 | Training Acc Phase: 87.41623% (62090/71028)\n",
      "60 Validation Loss Phase: 0.78536 | Validation Acc Phase: 77.92437% (11931/15311)\n",
      "Early Stopping count is at: 1 maximum is: 30\n",
      "Training Epoch: 21 of 100..\n"
     ]
    },
    {
     "name": "stderr",
     "output_type": "stream",
     "text": [
      "278it [04:27,  1.04it/s]\n"
     ]
    },
    {
     "name": "stdout",
     "output_type": "stream",
     "text": [
      "278 Training Loss Phase: 0.40847 | Training Acc Phase: 87.58940% (62213/71028)\n",
      "60 Validation Loss Phase: 0.78203 | Validation Acc Phase: 78.09418% (11957/15311)\n",
      "Early Stopping count is at: 2 maximum is: 30\n",
      "Training Epoch: 22 of 100..\n"
     ]
    },
    {
     "name": "stderr",
     "output_type": "stream",
     "text": [
      "278it [04:27,  1.04it/s]\n"
     ]
    },
    {
     "name": "stdout",
     "output_type": "stream",
     "text": [
      "278 Training Loss Phase: 0.40319 | Training Acc Phase: 87.93574% (62459/71028)\n",
      "60 Validation Loss Phase: 0.74308 | Validation Acc Phase: 78.84527% (12072/15311)\n",
      "Validation loss improved from 0.75 to 0.74  Saving Model\n",
      "Training Epoch: 23 of 100..\n"
     ]
    },
    {
     "name": "stderr",
     "output_type": "stream",
     "text": [
      "278it [04:28,  1.04it/s]\n"
     ]
    },
    {
     "name": "stdout",
     "output_type": "stream",
     "text": [
      "278 Training Loss Phase: 0.40560 | Training Acc Phase: 87.32049% (62022/71028)\n",
      "60 Validation Loss Phase: 0.73798 | Validation Acc Phase: 79.17837% (12123/15311)\n",
      "Validation loss improved from 0.74 to 0.74  Saving Model\n",
      "Training Epoch: 24 of 100..\n"
     ]
    },
    {
     "name": "stderr",
     "output_type": "stream",
     "text": [
      "278it [04:27,  1.04it/s]\n"
     ]
    },
    {
     "name": "stdout",
     "output_type": "stream",
     "text": [
      "278 Training Loss Phase: 0.38559 | Training Acc Phase: 88.38768% (62780/71028)\n",
      "60 Validation Loss Phase: 0.74960 | Validation Acc Phase: 79.22409% (12130/15311)\n",
      "Early Stopping count is at: 1 maximum is: 30\n",
      "Training Epoch: 25 of 100..\n"
     ]
    },
    {
     "name": "stderr",
     "output_type": "stream",
     "text": [
      "278it [04:27,  1.04it/s]\n"
     ]
    },
    {
     "name": "stdout",
     "output_type": "stream",
     "text": [
      "278 Training Loss Phase: 0.37624 | Training Acc Phase: 88.71994% (63016/71028)\n",
      "60 Validation Loss Phase: 0.72535 | Validation Acc Phase: 79.44615% (12164/15311)\n",
      "Validation loss improved from 0.74 to 0.73  Saving Model\n",
      "Training Epoch: 26 of 100..\n"
     ]
    },
    {
     "name": "stderr",
     "output_type": "stream",
     "text": [
      "278it [04:27,  1.04it/s]\n"
     ]
    },
    {
     "name": "stdout",
     "output_type": "stream",
     "text": [
      "278 Training Loss Phase: 0.36990 | Training Acc Phase: 88.78048% (63059/71028)\n",
      "60 Validation Loss Phase: 0.75904 | Validation Acc Phase: 78.91712% (12083/15311)\n",
      "Early Stopping count is at: 1 maximum is: 30\n",
      "Training Epoch: 27 of 100..\n"
     ]
    },
    {
     "name": "stderr",
     "output_type": "stream",
     "text": [
      "278it [04:27,  1.04it/s]\n"
     ]
    },
    {
     "name": "stdout",
     "output_type": "stream",
     "text": [
      "278 Training Loss Phase: 0.36732 | Training Acc Phase: 89.06488% (63261/71028)\n",
      "60 Validation Loss Phase: 0.77307 | Validation Acc Phase: 78.43381% (12009/15311)\n",
      "Early Stopping count is at: 2 maximum is: 30\n",
      "Training Epoch: 28 of 100..\n"
     ]
    },
    {
     "name": "stderr",
     "output_type": "stream",
     "text": [
      "278it [04:27,  1.04it/s]\n"
     ]
    },
    {
     "name": "stdout",
     "output_type": "stream",
     "text": [
      "278 Training Loss Phase: 0.37572 | Training Acc Phase: 88.23140% (62669/71028)\n",
      "60 Validation Loss Phase: 0.77046 | Validation Acc Phase: 77.40840% (11852/15311)\n",
      "Early Stopping count is at: 3 maximum is: 30\n",
      "Training Epoch: 29 of 100..\n"
     ]
    },
    {
     "name": "stderr",
     "output_type": "stream",
     "text": [
      "278it [04:27,  1.04it/s]\n"
     ]
    },
    {
     "name": "stdout",
     "output_type": "stream",
     "text": [
      "278 Training Loss Phase: 0.36401 | Training Acc Phase: 88.74669% (63035/71028)\n",
      "60 Validation Loss Phase: 0.77318 | Validation Acc Phase: 78.87793% (12077/15311)\n",
      "Early Stopping count is at: 4 maximum is: 30\n",
      "Training Epoch: 30 of 100..\n"
     ]
    },
    {
     "name": "stderr",
     "output_type": "stream",
     "text": [
      "278it [04:27,  1.04it/s]\n"
     ]
    },
    {
     "name": "stdout",
     "output_type": "stream",
     "text": [
      "278 Training Loss Phase: 0.35155 | Training Acc Phase: 89.49992% (63570/71028)\n",
      "60 Validation Loss Phase: 0.76260 | Validation Acc Phase: 79.51799% (12175/15311)\n",
      "Early Stopping count is at: 5 maximum is: 30\n",
      "Training Epoch: 31 of 100..\n"
     ]
    },
    {
     "name": "stderr",
     "output_type": "stream",
     "text": [
      "278it [04:27,  1.04it/s]\n"
     ]
    },
    {
     "name": "stdout",
     "output_type": "stream",
     "text": [
      "278 Training Loss Phase: 0.34906 | Training Acc Phase: 89.10852% (63292/71028)\n",
      "60 Validation Loss Phase: 0.76623 | Validation Acc Phase: 79.34818% (12149/15311)\n",
      "Early Stopping count is at: 6 maximum is: 30\n",
      "Training Epoch: 32 of 100..\n"
     ]
    },
    {
     "name": "stderr",
     "output_type": "stream",
     "text": [
      "278it [04:27,  1.04it/s]\n"
     ]
    },
    {
     "name": "stdout",
     "output_type": "stream",
     "text": [
      "278 Training Loss Phase: 0.33448 | Training Acc Phase: 89.65197% (63678/71028)\n",
      "60 Validation Loss Phase: 0.76255 | Validation Acc Phase: 78.71465% (12052/15311)\n",
      "Early Stopping count is at: 7 maximum is: 30\n",
      "Training Epoch: 33 of 100..\n"
     ]
    },
    {
     "name": "stderr",
     "output_type": "stream",
     "text": [
      "278it [04:28,  1.04it/s]\n"
     ]
    },
    {
     "name": "stdout",
     "output_type": "stream",
     "text": [
      "278 Training Loss Phase: 0.32442 | Training Acc Phase: 90.46714% (64257/71028)\n",
      "60 Validation Loss Phase: 0.76308 | Validation Acc Phase: 79.21756% (12129/15311)\n",
      "Early Stopping count is at: 8 maximum is: 30\n",
      "Training Epoch: 34 of 100..\n"
     ]
    },
    {
     "name": "stderr",
     "output_type": "stream",
     "text": [
      "278it [04:29,  1.03it/s]\n"
     ]
    },
    {
     "name": "stdout",
     "output_type": "stream",
     "text": [
      "278 Training Loss Phase: 0.34592 | Training Acc Phase: 88.97618% (63198/71028)\n",
      "60 Validation Loss Phase: 0.74601 | Validation Acc Phase: 79.07387% (12107/15311)\n",
      "Early Stopping count is at: 9 maximum is: 30\n",
      "Training Epoch: 35 of 100..\n"
     ]
    },
    {
     "name": "stderr",
     "output_type": "stream",
     "text": [
      "278it [04:30,  1.03it/s]\n"
     ]
    },
    {
     "name": "stdout",
     "output_type": "stream",
     "text": [
      "278 Training Loss Phase: 0.32134 | Training Acc Phase: 90.53613% (64306/71028)\n",
      "60 Validation Loss Phase: 0.72541 | Validation Acc Phase: 79.10652% (12112/15311)\n",
      "Early Stopping count is at: 10 maximum is: 30\n",
      "Training Epoch: 36 of 100..\n"
     ]
    },
    {
     "name": "stderr",
     "output_type": "stream",
     "text": [
      "278it [04:29,  1.03it/s]\n"
     ]
    },
    {
     "name": "stdout",
     "output_type": "stream",
     "text": [
      "278 Training Loss Phase: 0.29982 | Training Acc Phase: 91.15701% (64747/71028)\n",
      "60 Validation Loss Phase: 0.74963 | Validation Acc Phase: 78.96284% (12090/15311)\n",
      "Early Stopping count is at: 11 maximum is: 30\n",
      "Training Epoch: 37 of 100..\n"
     ]
    },
    {
     "name": "stderr",
     "output_type": "stream",
     "text": [
      "278it [04:29,  1.03it/s]\n"
     ]
    },
    {
     "name": "stdout",
     "output_type": "stream",
     "text": [
      "278 Training Loss Phase: 0.32326 | Training Acc Phase: 90.49952% (64280/71028)\n",
      "60 Validation Loss Phase: 0.73456 | Validation Acc Phase: 78.98896% (12094/15311)\n",
      "Early Stopping count is at: 12 maximum is: 30\n",
      "Training Epoch: 38 of 100..\n"
     ]
    },
    {
     "name": "stderr",
     "output_type": "stream",
     "text": [
      "278it [04:29,  1.03it/s]\n"
     ]
    },
    {
     "name": "stdout",
     "output_type": "stream",
     "text": [
      "278 Training Loss Phase: 0.30592 | Training Acc Phase: 90.60793% (64357/71028)\n",
      "60 Validation Loss Phase: 0.69663 | Validation Acc Phase: 80.39971% (12310/15311)\n",
      "Validation loss improved from 0.73 to 0.70  Saving Model\n",
      "Training Epoch: 39 of 100..\n"
     ]
    },
    {
     "name": "stderr",
     "output_type": "stream",
     "text": [
      "278it [04:29,  1.03it/s]\n"
     ]
    },
    {
     "name": "stdout",
     "output_type": "stream",
     "text": [
      "278 Training Loss Phase: 0.29515 | Training Acc Phase: 90.85150% (64530/71028)\n",
      "60 Validation Loss Phase: 0.74276 | Validation Acc Phase: 79.38084% (12154/15311)\n",
      "Early Stopping count is at: 1 maximum is: 30\n",
      "Training Epoch: 40 of 100..\n"
     ]
    },
    {
     "name": "stderr",
     "output_type": "stream",
     "text": [
      "278it [04:29,  1.03it/s]\n"
     ]
    },
    {
     "name": "stdout",
     "output_type": "stream",
     "text": [
      "278 Training Loss Phase: 0.41784 | Training Acc Phase: 85.97032% (61063/71028)\n",
      "60 Validation Loss Phase: 0.77878 | Validation Acc Phase: 79.38084% (12154/15311)\n",
      "Early Stopping count is at: 2 maximum is: 30\n",
      "Training Epoch: 41 of 100..\n"
     ]
    },
    {
     "name": "stderr",
     "output_type": "stream",
     "text": [
      "278it [04:29,  1.03it/s]\n"
     ]
    },
    {
     "name": "stdout",
     "output_type": "stream",
     "text": [
      "278 Training Loss Phase: 0.31991 | Training Acc Phase: 90.09968% (63996/71028)\n",
      "60 Validation Loss Phase: 0.75236 | Validation Acc Phase: 79.99477% (12248/15311)\n",
      "Early Stopping count is at: 3 maximum is: 30\n",
      "Training Epoch: 42 of 100..\n"
     ]
    },
    {
     "name": "stderr",
     "output_type": "stream",
     "text": [
      "278it [04:29,  1.03it/s]\n"
     ]
    },
    {
     "name": "stdout",
     "output_type": "stream",
     "text": [
      "278 Training Loss Phase: 0.29207 | Training Acc Phase: 90.93878% (64592/71028)\n",
      "60 Validation Loss Phase: 0.76145 | Validation Acc Phase: 79.89027% (12232/15311)\n",
      "Early Stopping count is at: 4 maximum is: 30\n",
      "Training Epoch: 43 of 100..\n"
     ]
    },
    {
     "name": "stderr",
     "output_type": "stream",
     "text": [
      "278it [04:29,  1.03it/s]\n"
     ]
    },
    {
     "name": "stdout",
     "output_type": "stream",
     "text": [
      "278 Training Loss Phase: 0.29106 | Training Acc Phase: 90.77688% (64477/71028)\n",
      "60 Validation Loss Phase: 0.75655 | Validation Acc Phase: 78.78649% (12063/15311)\n",
      "Early Stopping count is at: 5 maximum is: 30\n",
      "Training Epoch: 44 of 100..\n"
     ]
    },
    {
     "name": "stderr",
     "output_type": "stream",
     "text": [
      "278it [04:28,  1.04it/s]\n"
     ]
    },
    {
     "name": "stdout",
     "output_type": "stream",
     "text": [
      "278 Training Loss Phase: 0.28580 | Training Acc Phase: 91.40339% (64922/71028)\n",
      "60 Validation Loss Phase: 0.69059 | Validation Acc Phase: 80.39318% (12309/15311)\n",
      "Validation loss improved from 0.70 to 0.69  Saving Model\n",
      "Training Epoch: 45 of 100..\n"
     ]
    },
    {
     "name": "stderr",
     "output_type": "stream",
     "text": [
      "278it [04:26,  1.04it/s]\n"
     ]
    },
    {
     "name": "stdout",
     "output_type": "stream",
     "text": [
      "278 Training Loss Phase: 0.26944 | Training Acc Phase: 91.96514% (65321/71028)\n",
      "60 Validation Loss Phase: 0.68749 | Validation Acc Phase: 80.56299% (12335/15311)\n",
      "Validation loss improved from 0.69 to 0.69  Saving Model\n",
      "Training Epoch: 46 of 100..\n"
     ]
    },
    {
     "name": "stderr",
     "output_type": "stream",
     "text": [
      "278it [04:25,  1.05it/s]\n"
     ]
    },
    {
     "name": "stdout",
     "output_type": "stream",
     "text": [
      "278 Training Loss Phase: 0.26411 | Training Acc Phase: 92.00879% (65352/71028)\n",
      "60 Validation Loss Phase: 0.74922 | Validation Acc Phase: 80.45849% (12319/15311)\n",
      "Early Stopping count is at: 1 maximum is: 30\n",
      "Training Epoch: 47 of 100..\n"
     ]
    },
    {
     "name": "stderr",
     "output_type": "stream",
     "text": [
      "278it [04:26,  1.04it/s]\n"
     ]
    },
    {
     "name": "stdout",
     "output_type": "stream",
     "text": [
      "278 Training Loss Phase: 0.31470 | Training Acc Phase: 90.05322% (63963/71028)\n",
      "60 Validation Loss Phase: 0.74356 | Validation Acc Phase: 80.47156% (12321/15311)\n",
      "Early Stopping count is at: 2 maximum is: 30\n",
      "Training Epoch: 48 of 100..\n"
     ]
    },
    {
     "name": "stderr",
     "output_type": "stream",
     "text": [
      "278it [04:25,  1.05it/s]\n"
     ]
    },
    {
     "name": "stdout",
     "output_type": "stream",
     "text": [
      "278 Training Loss Phase: 0.26371 | Training Acc Phase: 92.01160% (65354/71028)\n",
      "60 Validation Loss Phase: 0.75521 | Validation Acc Phase: 79.83149% (12223/15311)\n",
      "Early Stopping count is at: 3 maximum is: 30\n",
      "Training Epoch: 49 of 100..\n"
     ]
    },
    {
     "name": "stderr",
     "output_type": "stream",
     "text": [
      "278it [04:25,  1.05it/s]\n"
     ]
    },
    {
     "name": "stdout",
     "output_type": "stream",
     "text": [
      "278 Training Loss Phase: 0.31979 | Training Acc Phase: 90.11094% (64004/71028)\n",
      "60 Validation Loss Phase: 0.74840 | Validation Acc Phase: 80.47809% (12322/15311)\n",
      "Early Stopping count is at: 4 maximum is: 30\n",
      "Training Epoch: 50 of 100..\n"
     ]
    },
    {
     "name": "stderr",
     "output_type": "stream",
     "text": [
      "278it [04:25,  1.05it/s]\n"
     ]
    },
    {
     "name": "stdout",
     "output_type": "stream",
     "text": [
      "278 Training Loss Phase: 0.27681 | Training Acc Phase: 91.27527% (64831/71028)\n",
      "60 Validation Loss Phase: 0.73293 | Validation Acc Phase: 79.55718% (12181/15311)\n",
      "Early Stopping count is at: 5 maximum is: 30\n",
      "Training Epoch: 51 of 100..\n"
     ]
    },
    {
     "name": "stderr",
     "output_type": "stream",
     "text": [
      "278it [04:25,  1.05it/s]\n"
     ]
    },
    {
     "name": "stdout",
     "output_type": "stream",
     "text": [
      "278 Training Loss Phase: 0.24222 | Training Acc Phase: 92.64797% (65806/71028)\n",
      "60 Validation Loss Phase: 0.74031 | Validation Acc Phase: 79.96865% (12244/15311)\n",
      "Early Stopping count is at: 6 maximum is: 30\n",
      "Training Epoch: 52 of 100..\n"
     ]
    },
    {
     "name": "stderr",
     "output_type": "stream",
     "text": [
      "278it [04:24,  1.05it/s]\n"
     ]
    },
    {
     "name": "stdout",
     "output_type": "stream",
     "text": [
      "278 Training Loss Phase: 0.34288 | Training Acc Phase: 89.07614% (63269/71028)\n",
      "60 Validation Loss Phase: 0.72278 | Validation Acc Phase: 80.04049% (12255/15311)\n",
      "Early Stopping count is at: 7 maximum is: 30\n",
      "Training Epoch: 53 of 100..\n"
     ]
    },
    {
     "name": "stderr",
     "output_type": "stream",
     "text": [
      "278it [04:25,  1.05it/s]\n"
     ]
    },
    {
     "name": "stdout",
     "output_type": "stream",
     "text": [
      "278 Training Loss Phase: 0.26324 | Training Acc Phase: 92.31993% (65573/71028)\n",
      "60 Validation Loss Phase: 0.72243 | Validation Acc Phase: 80.56953% (12336/15311)\n",
      "Early Stopping count is at: 8 maximum is: 30\n",
      "Training Epoch: 54 of 100..\n"
     ]
    },
    {
     "name": "stderr",
     "output_type": "stream",
     "text": [
      "278it [04:25,  1.05it/s]\n"
     ]
    },
    {
     "name": "stdout",
     "output_type": "stream",
     "text": [
      "278 Training Loss Phase: 0.26992 | Training Acc Phase: 91.79619% (65201/71028)\n",
      "60 Validation Loss Phase: 0.66196 | Validation Acc Phase: 81.54921% (12486/15311)\n",
      "Validation loss improved from 0.69 to 0.66  Saving Model\n",
      "Training Epoch: 55 of 100..\n"
     ]
    },
    {
     "name": "stderr",
     "output_type": "stream",
     "text": [
      "278it [04:25,  1.05it/s]\n"
     ]
    },
    {
     "name": "stdout",
     "output_type": "stream",
     "text": [
      "278 Training Loss Phase: 0.34110 | Training Acc Phase: 89.09444% (63282/71028)\n",
      "60 Validation Loss Phase: 0.70419 | Validation Acc Phase: 81.10509% (12418/15311)\n",
      "Early Stopping count is at: 1 maximum is: 30\n",
      "Training Epoch: 56 of 100..\n"
     ]
    },
    {
     "name": "stderr",
     "output_type": "stream",
     "text": [
      "278it [04:27,  1.04it/s]\n"
     ]
    },
    {
     "name": "stdout",
     "output_type": "stream",
     "text": [
      "278 Training Loss Phase: 0.28196 | Training Acc Phase: 91.19361% (64773/71028)\n",
      "60 Validation Loss Phase: 0.78606 | Validation Acc Phase: 79.68127% (12200/15311)\n",
      "Early Stopping count is at: 2 maximum is: 30\n",
      "Training Epoch: 57 of 100..\n"
     ]
    },
    {
     "name": "stderr",
     "output_type": "stream",
     "text": [
      "278it [04:27,  1.04it/s]\n"
     ]
    },
    {
     "name": "stdout",
     "output_type": "stream",
     "text": [
      "278 Training Loss Phase: 0.25774 | Training Acc Phase: 92.12564% (65435/71028)\n",
      "60 Validation Loss Phase: 0.73830 | Validation Acc Phase: 80.56953% (12336/15311)\n",
      "Early Stopping count is at: 3 maximum is: 30\n",
      "Training Epoch: 58 of 100..\n"
     ]
    },
    {
     "name": "stderr",
     "output_type": "stream",
     "text": [
      "278it [04:27,  1.04it/s]\n"
     ]
    },
    {
     "name": "stdout",
     "output_type": "stream",
     "text": [
      "278 Training Loss Phase: 0.22985 | Training Acc Phase: 93.27026% (66248/71028)\n",
      "60 Validation Loss Phase: 0.74301 | Validation Acc Phase: 80.35399% (12303/15311)\n",
      "Early Stopping count is at: 4 maximum is: 30\n",
      "Training Epoch: 59 of 100..\n"
     ]
    },
    {
     "name": "stderr",
     "output_type": "stream",
     "text": [
      "278it [04:29,  1.03it/s]\n"
     ]
    },
    {
     "name": "stdout",
     "output_type": "stream",
     "text": [
      "278 Training Loss Phase: 0.26107 | Training Acc Phase: 92.18196% (65475/71028)\n",
      "60 Validation Loss Phase: 0.68421 | Validation Acc Phase: 80.79159% (12370/15311)\n",
      "Early Stopping count is at: 5 maximum is: 30\n",
      "Training Epoch: 60 of 100..\n"
     ]
    },
    {
     "name": "stderr",
     "output_type": "stream",
     "text": [
      "278it [04:27,  1.04it/s]\n"
     ]
    },
    {
     "name": "stdout",
     "output_type": "stream",
     "text": [
      "278 Training Loss Phase: 0.22450 | Training Acc Phase: 93.36177% (66313/71028)\n",
      "60 Validation Loss Phase: 0.66639 | Validation Acc Phase: 80.22337% (12283/15311)\n",
      "Early Stopping count is at: 6 maximum is: 30\n",
      "Training Epoch: 61 of 100..\n"
     ]
    },
    {
     "name": "stderr",
     "output_type": "stream",
     "text": [
      "278it [04:27,  1.04it/s]\n"
     ]
    },
    {
     "name": "stdout",
     "output_type": "stream",
     "text": [
      "278 Training Loss Phase: 0.22399 | Training Acc Phase: 93.43639% (66366/71028)\n",
      "60 Validation Loss Phase: 0.71000 | Validation Acc Phase: 79.59637% (12187/15311)\n",
      "Early Stopping count is at: 7 maximum is: 30\n",
      "Training Epoch: 62 of 100..\n"
     ]
    },
    {
     "name": "stderr",
     "output_type": "stream",
     "text": [
      "278it [04:27,  1.04it/s]\n"
     ]
    },
    {
     "name": "stdout",
     "output_type": "stream",
     "text": [
      "278 Training Loss Phase: 0.26449 | Training Acc Phase: 91.82154% (65219/71028)\n",
      "60 Validation Loss Phase: 0.69451 | Validation Acc Phase: 79.50493% (12173/15311)\n",
      "Early Stopping count is at: 8 maximum is: 30\n",
      "Training Epoch: 63 of 100..\n"
     ]
    },
    {
     "name": "stderr",
     "output_type": "stream",
     "text": [
      "278it [04:27,  1.04it/s]\n"
     ]
    },
    {
     "name": "stdout",
     "output_type": "stream",
     "text": [
      "278 Training Loss Phase: 0.23655 | Training Acc Phase: 92.80847% (65920/71028)\n",
      "60 Validation Loss Phase: 0.78816 | Validation Acc Phase: 78.63627% (12040/15311)\n",
      "Early Stopping count is at: 9 maximum is: 30\n",
      "Training Epoch: 64 of 100..\n"
     ]
    },
    {
     "name": "stderr",
     "output_type": "stream",
     "text": [
      "278it [04:27,  1.04it/s]\n"
     ]
    },
    {
     "name": "stdout",
     "output_type": "stream",
     "text": [
      "278 Training Loss Phase: 0.25031 | Training Acc Phase: 92.24250% (65518/71028)\n",
      "60 Validation Loss Phase: 0.77793 | Validation Acc Phase: 79.07387% (12107/15311)\n",
      "Early Stopping count is at: 10 maximum is: 30\n",
      "Training Epoch: 65 of 100..\n"
     ]
    },
    {
     "name": "stderr",
     "output_type": "stream",
     "text": [
      "278it [04:27,  1.04it/s]\n"
     ]
    },
    {
     "name": "stdout",
     "output_type": "stream",
     "text": [
      "278 Training Loss Phase: 0.22501 | Training Acc Phase: 93.33502% (66294/71028)\n",
      "60 Validation Loss Phase: 0.77327 | Validation Acc Phase: 79.37431% (12153/15311)\n",
      "Early Stopping count is at: 11 maximum is: 30\n",
      "Training Epoch: 66 of 100..\n"
     ]
    },
    {
     "name": "stderr",
     "output_type": "stream",
     "text": [
      "278it [04:27,  1.04it/s]\n"
     ]
    },
    {
     "name": "stdout",
     "output_type": "stream",
     "text": [
      "278 Training Loss Phase: 0.22559 | Training Acc Phase: 93.67714% (66537/71028)\n",
      "60 Validation Loss Phase: 0.67695 | Validation Acc Phase: 83.01874% (12711/15311)\n",
      "Early Stopping count is at: 12 maximum is: 30\n",
      "Training Epoch: 67 of 100..\n"
     ]
    },
    {
     "name": "stderr",
     "output_type": "stream",
     "text": [
      "278it [04:25,  1.05it/s]\n"
     ]
    },
    {
     "name": "stdout",
     "output_type": "stream",
     "text": [
      "278 Training Loss Phase: 0.32316 | Training Acc Phase: 90.41223% (64218/71028)\n",
      "60 Validation Loss Phase: 0.53400 | Validation Acc Phase: 82.13049% (12575/15311)\n",
      "Validation loss improved from 0.66 to 0.53  Saving Model\n",
      "Training Epoch: 68 of 100..\n"
     ]
    },
    {
     "name": "stderr",
     "output_type": "stream",
     "text": [
      "278it [04:25,  1.05it/s]\n"
     ]
    },
    {
     "name": "stdout",
     "output_type": "stream",
     "text": [
      "278 Training Loss Phase: 0.24765 | Training Acc Phase: 92.11156% (65425/71028)\n",
      "60 Validation Loss Phase: 0.81895 | Validation Acc Phase: 80.69362% (12355/15311)\n",
      "Early Stopping count is at: 1 maximum is: 30\n",
      "Training Epoch: 69 of 100..\n"
     ]
    },
    {
     "name": "stderr",
     "output_type": "stream",
     "text": [
      "278it [04:25,  1.05it/s]\n"
     ]
    },
    {
     "name": "stdout",
     "output_type": "stream",
     "text": [
      "278 Training Loss Phase: 0.37189 | Training Acc Phase: 88.22295% (62663/71028)\n",
      "60 Validation Loss Phase: 0.73065 | Validation Acc Phase: 79.83149% (12223/15311)\n",
      "Early Stopping count is at: 2 maximum is: 30\n",
      "Training Epoch: 70 of 100..\n"
     ]
    },
    {
     "name": "stderr",
     "output_type": "stream",
     "text": [
      "278it [04:25,  1.05it/s]\n"
     ]
    },
    {
     "name": "stdout",
     "output_type": "stream",
     "text": [
      "278 Training Loss Phase: 0.31744 | Training Acc Phase: 89.70124% (63713/71028)\n",
      "60 Validation Loss Phase: 0.67944 | Validation Acc Phase: 79.43962% (12163/15311)\n",
      "Early Stopping count is at: 3 maximum is: 30\n",
      "Training Epoch: 71 of 100..\n"
     ]
    },
    {
     "name": "stderr",
     "output_type": "stream",
     "text": [
      "278it [04:26,  1.04it/s]\n"
     ]
    },
    {
     "name": "stdout",
     "output_type": "stream",
     "text": [
      "278 Training Loss Phase: 0.23484 | Training Acc Phase: 93.07175% (66107/71028)\n",
      "60 Validation Loss Phase: 0.77045 | Validation Acc Phase: 79.87068% (12229/15311)\n",
      "Early Stopping count is at: 4 maximum is: 30\n",
      "Training Epoch: 72 of 100..\n"
     ]
    },
    {
     "name": "stderr",
     "output_type": "stream",
     "text": [
      "278it [04:25,  1.05it/s]\n"
     ]
    },
    {
     "name": "stdout",
     "output_type": "stream",
     "text": [
      "278 Training Loss Phase: 0.29782 | Training Acc Phase: 90.89655% (64562/71028)\n",
      "60 Validation Loss Phase: 0.72681 | Validation Acc Phase: 79.72046% (12206/15311)\n",
      "Early Stopping count is at: 5 maximum is: 30\n",
      "Training Epoch: 73 of 100..\n"
     ]
    },
    {
     "name": "stderr",
     "output_type": "stream",
     "text": [
      "278it [04:25,  1.05it/s]\n"
     ]
    },
    {
     "name": "stdout",
     "output_type": "stream",
     "text": [
      "278 Training Loss Phase: 0.23967 | Training Acc Phase: 92.81973% (65928/71028)\n",
      "60 Validation Loss Phase: 0.73571 | Validation Acc Phase: 80.54993% (12333/15311)\n",
      "Early Stopping count is at: 6 maximum is: 30\n",
      "Training Epoch: 74 of 100..\n"
     ]
    },
    {
     "name": "stderr",
     "output_type": "stream",
     "text": [
      "278it [04:25,  1.05it/s]\n"
     ]
    },
    {
     "name": "stdout",
     "output_type": "stream",
     "text": [
      "278 Training Loss Phase: 0.21916 | Training Acc Phase: 93.38993% (66333/71028)\n",
      "60 Validation Loss Phase: 0.76654 | Validation Acc Phase: 78.90406% (12081/15311)\n",
      "Early Stopping count is at: 7 maximum is: 30\n",
      "Training Epoch: 75 of 100..\n"
     ]
    },
    {
     "name": "stderr",
     "output_type": "stream",
     "text": [
      "278it [04:25,  1.05it/s]\n"
     ]
    },
    {
     "name": "stdout",
     "output_type": "stream",
     "text": [
      "278 Training Loss Phase: 0.26471 | Training Acc Phase: 91.39494% (64916/71028)\n",
      "60 Validation Loss Phase: 0.68109 | Validation Acc Phase: 80.95487% (12395/15311)\n",
      "Early Stopping count is at: 8 maximum is: 30\n",
      "Training Epoch: 76 of 100..\n"
     ]
    },
    {
     "name": "stderr",
     "output_type": "stream",
     "text": [
      "278it [04:25,  1.05it/s]\n"
     ]
    },
    {
     "name": "stdout",
     "output_type": "stream",
     "text": [
      "278 Training Loss Phase: 0.28400 | Training Acc Phase: 90.49811% (64279/71028)\n",
      "60 Validation Loss Phase: 0.64763 | Validation Acc Phase: 82.46359% (12626/15311)\n",
      "Early Stopping count is at: 9 maximum is: 30\n",
      "Training Epoch: 77 of 100..\n"
     ]
    },
    {
     "name": "stderr",
     "output_type": "stream",
     "text": [
      "278it [04:26,  1.04it/s]\n"
     ]
    },
    {
     "name": "stdout",
     "output_type": "stream",
     "text": [
      "278 Training Loss Phase: 0.21648 | Training Acc Phase: 93.32939% (66290/71028)\n",
      "60 Validation Loss Phase: 0.67510 | Validation Acc Phase: 81.24224% (12439/15311)\n",
      "Early Stopping count is at: 10 maximum is: 30\n",
      "Training Epoch: 78 of 100..\n"
     ]
    },
    {
     "name": "stderr",
     "output_type": "stream",
     "text": [
      "278it [04:27,  1.04it/s]\n"
     ]
    },
    {
     "name": "stdout",
     "output_type": "stream",
     "text": [
      "278 Training Loss Phase: 0.20122 | Training Acc Phase: 93.96717% (66743/71028)\n",
      "60 Validation Loss Phase: 0.72458 | Validation Acc Phase: 80.00784% (12250/15311)\n",
      "Early Stopping count is at: 11 maximum is: 30\n",
      "Training Epoch: 79 of 100..\n"
     ]
    },
    {
     "name": "stderr",
     "output_type": "stream",
     "text": [
      "278it [04:27,  1.04it/s]\n"
     ]
    },
    {
     "name": "stdout",
     "output_type": "stream",
     "text": [
      "278 Training Loss Phase: 0.32394 | Training Acc Phase: 89.29436% (63424/71028)\n",
      "60 Validation Loss Phase: 0.61003 | Validation Acc Phase: 82.95996% (12702/15311)\n",
      "Early Stopping count is at: 12 maximum is: 30\n",
      "Training Epoch: 80 of 100..\n"
     ]
    },
    {
     "name": "stderr",
     "output_type": "stream",
     "text": [
      "278it [04:27,  1.04it/s]\n"
     ]
    },
    {
     "name": "stdout",
     "output_type": "stream",
     "text": [
      "278 Training Loss Phase: 0.22188 | Training Acc Phase: 93.19705% (66196/71028)\n",
      "60 Validation Loss Phase: 0.66432 | Validation Acc Phase: 80.62178% (12344/15311)\n",
      "Early Stopping count is at: 13 maximum is: 30\n",
      "Training Epoch: 81 of 100..\n"
     ]
    },
    {
     "name": "stderr",
     "output_type": "stream",
     "text": [
      "278it [04:27,  1.04it/s]\n"
     ]
    },
    {
     "name": "stdout",
     "output_type": "stream",
     "text": [
      "278 Training Loss Phase: 0.20226 | Training Acc Phase: 94.19665% (66906/71028)\n",
      "60 Validation Loss Phase: 0.69209 | Validation Acc Phase: 80.77199% (12367/15311)\n",
      "Early Stopping count is at: 14 maximum is: 30\n",
      "Training Epoch: 82 of 100..\n"
     ]
    },
    {
     "name": "stderr",
     "output_type": "stream",
     "text": [
      "278it [04:27,  1.04it/s]\n"
     ]
    },
    {
     "name": "stdout",
     "output_type": "stream",
     "text": [
      "278 Training Loss Phase: 0.18980 | Training Acc Phase: 94.66971% (67242/71028)\n",
      "60 Validation Loss Phase: 0.67936 | Validation Acc Phase: 81.74515% (12516/15311)\n",
      "Early Stopping count is at: 15 maximum is: 30\n",
      "Training Epoch: 83 of 100..\n"
     ]
    },
    {
     "name": "stderr",
     "output_type": "stream",
     "text": [
      "278it [04:29,  1.03it/s]\n"
     ]
    },
    {
     "name": "stdout",
     "output_type": "stream",
     "text": [
      "278 Training Loss Phase: 0.19004 | Training Acc Phase: 94.56834% (67170/71028)\n",
      "60 Validation Loss Phase: 0.66215 | Validation Acc Phase: 82.55503% (12640/15311)\n",
      "Early Stopping count is at: 16 maximum is: 30\n",
      "Training Epoch: 84 of 100..\n"
     ]
    },
    {
     "name": "stderr",
     "output_type": "stream",
     "text": [
      "278it [04:27,  1.04it/s]\n"
     ]
    },
    {
     "name": "stdout",
     "output_type": "stream",
     "text": [
      "278 Training Loss Phase: 0.34097 | Training Acc Phase: 90.19401% (64063/71028)\n",
      "60 Validation Loss Phase: 0.78149 | Validation Acc Phase: 79.38084% (12154/15311)\n",
      "Early Stopping count is at: 17 maximum is: 30\n",
      "Training Epoch: 85 of 100..\n"
     ]
    },
    {
     "name": "stderr",
     "output_type": "stream",
     "text": [
      "278it [04:27,  1.04it/s]\n"
     ]
    },
    {
     "name": "stdout",
     "output_type": "stream",
     "text": [
      "278 Training Loss Phase: 0.27907 | Training Acc Phase: 91.85532% (65243/71028)\n",
      "60 Validation Loss Phase: 0.73898 | Validation Acc Phase: 81.08549% (12415/15311)\n",
      "Early Stopping count is at: 18 maximum is: 30\n",
      "Training Epoch: 86 of 100..\n"
     ]
    },
    {
     "name": "stderr",
     "output_type": "stream",
     "text": [
      "278it [04:27,  1.04it/s]\n"
     ]
    },
    {
     "name": "stdout",
     "output_type": "stream",
     "text": [
      "278 Training Loss Phase: 0.21066 | Training Acc Phase: 93.95590% (66735/71028)\n",
      "60 Validation Loss Phase: 0.67228 | Validation Acc Phase: 81.48390% (12476/15311)\n",
      "Early Stopping count is at: 19 maximum is: 30\n",
      "Training Epoch: 87 of 100..\n"
     ]
    },
    {
     "name": "stderr",
     "output_type": "stream",
     "text": [
      "278it [04:27,  1.04it/s]\n"
     ]
    },
    {
     "name": "stdout",
     "output_type": "stream",
     "text": [
      "278 Training Loss Phase: 0.19074 | Training Acc Phase: 94.65281% (67230/71028)\n",
      "60 Validation Loss Phase: 0.68538 | Validation Acc Phase: 83.06446% (12718/15311)\n",
      "Early Stopping count is at: 20 maximum is: 30\n",
      "Training Epoch: 88 of 100..\n"
     ]
    },
    {
     "name": "stderr",
     "output_type": "stream",
     "text": [
      "278it [04:26,  1.04it/s]\n"
     ]
    },
    {
     "name": "stdout",
     "output_type": "stream",
     "text": [
      "278 Training Loss Phase: 0.18624 | Training Acc Phase: 94.87948% (67391/71028)\n",
      "60 Validation Loss Phase: 0.67349 | Validation Acc Phase: 82.45053% (12624/15311)\n",
      "Early Stopping count is at: 21 maximum is: 30\n",
      "Training Epoch: 89 of 100..\n"
     ]
    },
    {
     "name": "stderr",
     "output_type": "stream",
     "text": [
      "278it [04:24,  1.05it/s]\n"
     ]
    },
    {
     "name": "stdout",
     "output_type": "stream",
     "text": [
      "278 Training Loss Phase: 0.27219 | Training Acc Phase: 91.45267% (64957/71028)\n",
      "60 Validation Loss Phase: 0.75112 | Validation Acc Phase: 78.77996% (12062/15311)\n",
      "Early Stopping count is at: 22 maximum is: 30\n",
      "Training Epoch: 90 of 100..\n"
     ]
    },
    {
     "name": "stderr",
     "output_type": "stream",
     "text": [
      "278it [04:25,  1.05it/s]\n"
     ]
    },
    {
     "name": "stdout",
     "output_type": "stream",
     "text": [
      "278 Training Loss Phase: 0.23581 | Training Acc Phase: 92.67613% (65826/71028)\n",
      "60 Validation Loss Phase: 0.75923 | Validation Acc Phase: 80.60218% (12341/15311)\n",
      "Early Stopping count is at: 23 maximum is: 30\n",
      "Training Epoch: 91 of 100..\n"
     ]
    },
    {
     "name": "stderr",
     "output_type": "stream",
     "text": [
      "278it [04:25,  1.05it/s]\n"
     ]
    },
    {
     "name": "stdout",
     "output_type": "stream",
     "text": [
      "278 Training Loss Phase: 0.19772 | Training Acc Phase: 94.14738% (66871/71028)\n",
      "60 Validation Loss Phase: 0.69589 | Validation Acc Phase: 81.88231% (12537/15311)\n",
      "Early Stopping count is at: 24 maximum is: 30\n",
      "Training Epoch: 92 of 100..\n"
     ]
    },
    {
     "name": "stderr",
     "output_type": "stream",
     "text": [
      "278it [04:25,  1.05it/s]\n"
     ]
    },
    {
     "name": "stdout",
     "output_type": "stream",
     "text": [
      "278 Training Loss Phase: 0.18027 | Training Acc Phase: 95.01605% (67488/71028)\n",
      "60 Validation Loss Phase: 0.69424 | Validation Acc Phase: 83.10365% (12724/15311)\n",
      "Early Stopping count is at: 25 maximum is: 30\n",
      "Training Epoch: 93 of 100..\n"
     ]
    },
    {
     "name": "stderr",
     "output_type": "stream",
     "text": [
      "278it [04:24,  1.05it/s]\n"
     ]
    },
    {
     "name": "stdout",
     "output_type": "stream",
     "text": [
      "278 Training Loss Phase: 0.17987 | Training Acc Phase: 95.02731% (67496/71028)\n",
      "60 Validation Loss Phase: 0.73537 | Validation Acc Phase: 80.96793% (12397/15311)\n",
      "Early Stopping count is at: 26 maximum is: 30\n",
      "Training Epoch: 94 of 100..\n"
     ]
    },
    {
     "name": "stderr",
     "output_type": "stream",
     "text": [
      "278it [04:24,  1.05it/s]\n"
     ]
    },
    {
     "name": "stdout",
     "output_type": "stream",
     "text": [
      "278 Training Loss Phase: 0.17415 | Training Acc Phase: 95.19063% (67612/71028)\n",
      "60 Validation Loss Phase: 0.73471 | Validation Acc Phase: 80.51728% (12328/15311)\n",
      "Early Stopping count is at: 27 maximum is: 30\n",
      "Training Epoch: 95 of 100..\n"
     ]
    },
    {
     "name": "stderr",
     "output_type": "stream",
     "text": [
      "278it [04:26,  1.04it/s]\n"
     ]
    },
    {
     "name": "stdout",
     "output_type": "stream",
     "text": [
      "278 Training Loss Phase: 0.17363 | Training Acc Phase: 95.22442% (67636/71028)\n",
      "60 Validation Loss Phase: 0.71276 | Validation Acc Phase: 80.81771% (12374/15311)\n",
      "Early Stopping count is at: 28 maximum is: 30\n",
      "Training Epoch: 96 of 100..\n"
     ]
    },
    {
     "name": "stderr",
     "output_type": "stream",
     "text": [
      "278it [04:25,  1.05it/s]\n"
     ]
    },
    {
     "name": "stdout",
     "output_type": "stream",
     "text": [
      "278 Training Loss Phase: 0.17219 | Training Acc Phase: 95.17514% (67601/71028)\n",
      "60 Validation Loss Phase: 0.72574 | Validation Acc Phase: 81.32715% (12452/15311)\n",
      "Early Stopping count is at: 29 maximum is: 30\n",
      "Training Epoch: 97 of 100..\n"
     ]
    },
    {
     "name": "stderr",
     "output_type": "stream",
     "text": [
      "278it [04:25,  1.05it/s]\n"
     ]
    },
    {
     "name": "stdout",
     "output_type": "stream",
     "text": [
      "278 Training Loss Phase: 0.17199 | Training Acc Phase: 95.17092% (67598/71028)\n",
      "60 Validation Loss Phase: 0.76358 | Validation Acc Phase: 79.78577% (12216/15311)\n",
      "Early Stopping count is at: 30 maximum is: 30\n",
      "Training Epoch: 98 of 100..\n"
     ]
    },
    {
     "name": "stderr",
     "output_type": "stream",
     "text": [
      "278it [04:25,  1.05it/s]\n"
     ]
    },
    {
     "name": "stdout",
     "output_type": "stream",
     "text": [
      "278 Training Loss Phase: 0.17229 | Training Acc Phase: 95.19908% (67618/71028)\n",
      "60 Validation Loss Phase: 0.73855 | Validation Acc Phase: 80.22337% (12283/15311)\n",
      "Early Stopping count is at: 31 maximum is: 30\n",
      "Training Epoch: 99 of 100..\n"
     ]
    },
    {
     "name": "stderr",
     "output_type": "stream",
     "text": [
      "278it [04:25,  1.05it/s]\n"
     ]
    },
    {
     "name": "stdout",
     "output_type": "stream",
     "text": [
      "278 Training Loss Phase: 0.21777 | Training Acc Phase: 93.51523% (66422/71028)\n",
      "60 Validation Loss Phase: 0.57884 | Validation Acc Phase: 79.98824% (12247/15311)\n",
      "Early Stopping count is at: 32 maximum is: 30\n",
      "Training Epoch: 100 of 100..\n"
     ]
    },
    {
     "name": "stderr",
     "output_type": "stream",
     "text": [
      "278it [04:26,  1.04it/s]\n"
     ]
    },
    {
     "name": "stdout",
     "output_type": "stream",
     "text": [
      "278 Training Loss Phase: 0.32541 | Training Acc Phase: 89.17188% (63337/71028)\n",
      "60 Validation Loss Phase: 0.65893 | Validation Acc Phase: 81.72556% (12513/15311)\n",
      "Early Stopping count is at: 33 maximum is: 30\n",
      "Total execution time = 32704.768 sec\n",
      "Max memory used by tensors = 2592783872 bytes\n"
     ]
    }
   ],
   "source": [
    "start_time = None\n",
    "model_train_validate_transformer(train_df, val_df,optimizer_num=0, model_num=12,batch_size=256, learning_rate=1e-4)"
   ]
  },
  {
   "cell_type": "code",
   "execution_count": null,
   "metadata": {},
   "outputs": [],
   "source": []
  }
 ],
 "metadata": {
  "kernelspec": {
   "display_name": "Python 3.8.10 ('base')",
   "language": "python",
   "name": "python3"
  },
  "language_info": {
   "codemirror_mode": {
    "name": "ipython",
    "version": 3
   },
   "file_extension": ".py",
   "mimetype": "text/x-python",
   "name": "python",
   "nbconvert_exporter": "python",
   "pygments_lexer": "ipython3",
   "version": "3.8.10"
  },
  "orig_nbformat": 4,
  "vscode": {
   "interpreter": {
    "hash": "9136203666cc20a7cbb4159ad8ff6a3bdf9f9662fc68256af5fa565dcf4d2f30"
   }
  }
 },
 "nbformat": 4,
 "nbformat_minor": 2
}
